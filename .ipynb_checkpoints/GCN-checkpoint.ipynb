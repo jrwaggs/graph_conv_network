{
 "cells": [
  {
   "cell_type": "markdown",
   "metadata": {},
   "source": [
    "### Exploring GCN's for node prediction in a music playlist.  Predicting if an artist is part of playlist.  \n",
    "\n",
    "Given 10 random artists from the 'rock classics' playlist and individual graphs of size 400, can node classification methods outperform PageRank with respect to predicting/labeling artists in the graph that are also in the original playlist.  Given the same parameters, ranking artists by PageRank will correctly label anywhere from ~35% to ~40% of artists in this playlist (see 'Exploring Weighted Edges'.)\n"
   ]
  },
  {
   "cell_type": "code",
   "execution_count": 1,
   "metadata": {},
   "outputs": [],
   "source": [
    "import music_graph as mg    # contains all necessary functions, data and dependencies\n",
    "\n",
    "from music_graph import artist_dictionary\n",
    "from music_graph import tags_dictionary\n",
    "from music_graph import filtered_tags_dictionary\n",
    "from music_graph import ratings\n",
    "from music_graph import build_net\n",
    "from music_graph import layer_graphs\n",
    "from music_graph import new_centrality\n",
    "from music_graph import spotify_rankings\n",
    "from music_graph import add_tag_edges\n",
    "\n",
    "from datetime import datetime\n",
    "\n",
    "import configparser\n",
    "import spotipy\n",
    "from spotipy.oauth2 import SpotifyClientCredentials\n",
    "import pandas as pd\n",
    "import numpy as np\n",
    "from matplotlib import pyplot as plt\n",
    "import seaborn as sns\n",
    "\n",
    "import tensorflow as tf\n",
    "import stellargraph as sg\n",
    "\n",
    "# Spotify client id & secret for API access\n",
    "\n",
    "config = configparser.ConfigParser()\n",
    "config.read('spotify.ini')\n",
    "\n",
    "client_id = config['spotify']['client_id']\n",
    "client_secret = config['spotify']['client_secret']"
   ]
  },
  {
   "cell_type": "code",
   "execution_count": 2,
   "metadata": {},
   "outputs": [
    {
     "name": "stdout",
     "output_type": "stream",
     "text": [
      "77  unique artists\n",
      "150  total artists\n"
     ]
    }
   ],
   "source": [
    "playlists = {\n",
    "'4C9mWYjVobPsfFXesGxYNf':'all classic hits', ### $$$\n",
    "#'5TF1ki4BzMFfotw57juFTY':'coffee shop mix',\n",
    "'3pM6OEFeTo4L1yd4eRltjL':'2004 hits', ### $$$\n",
    "'73gFKr9Moh1T3jXM8TVSdC':'80s summer mix',\n",
    "'17xTDziQjqAZANvg6C6FlX':'songs from your old ipod',\n",
    "'6j3URIMhpf62LXpDcbi98b':'rap playlists',\n",
    "#'1DcX9eK1MaPlwwBIsEfnBX':'country playlist to end all playlists',\n",
    "#'5VhEpH7stoZiX4v8gIb77P':'playlists',\n",
    "'37i9dQZF1DWXRqgorJj26U':'rock classics', ### $$$\n",
    "'37i9dQZF1DWWJOmJ7nRx0C':'rock hard',  ### $$$\n",
    "'37i9dQZF1DWWRktbhJiuqL':'pure rock n roll', ### $$$\n",
    "'37i9dQZF1DX5W4wuxak2hE':'power pop', ###\n",
    "'7Jfcy1H82lsTIzhpL4MZXu':'punk playlist', ### $$$\n",
    "'07jaITMGGL6QYmT8yZVxQt':'metal playlist'\n",
    "}  \n",
    "\n",
    "\"\"\"\n",
    "Request tracks from a playlist in Spotify\n",
    "Then pull artist out of the track container.\n",
    "\"\"\"\n",
    "url = 'https://open.spotify.com/playlist'\n",
    "sp = spotipy.Spotify(client_credentials_manager=SpotifyClientCredentials(client_id, client_secret))\n",
    "\n",
    "playlistid = '37i9dQZF1DWXRqgorJj26U'\n",
    "playlist_name = playlists[playlistid]\n",
    "\n",
    "# playlists with more than 100 artists will require two requests\n",
    "playlist1 = sp.playlist_tracks(playlistid, offset = 0, limit = 100) # get the first 100 tracks\n",
    "playlist2 = sp.playlist_tracks(playlistid, offset = 100, limit = 100) # get the next 100 tracks\n",
    "\n",
    "artists = []\n",
    "\n",
    "for index, item in enumerate(playlist1['items']):\n",
    "    artists.append(item['track']['album']['artists'][0]['name'])\n",
    "    \n",
    "for index, item in enumerate(playlist2['items']):\n",
    "    artists.append(item['track']['album']['artists'][0]['name'])\n",
    "    \n",
    "artists = [i.lower() for i in artists]\n",
    "\n",
    "num_artists = len(set(artists))      # number of unique artists in the playlist\n",
    "\n",
    "print(len(set(artists)), ' unique artists')\n",
    "print(len((artists)), ' total artists') "
   ]
  },
  {
   "cell_type": "code",
   "execution_count": 6,
   "metadata": {},
   "outputs": [
    {
     "name": "stdout",
     "output_type": "stream",
     "text": [
      "multigraph iteration: \n",
      "['free', 'journey', 'whitesnake', 'metallica', 'the who', 'lynyrd skynyrd', \"guns n' roses\", 'don mclean', 'the police', 'the doors']\n",
      "2020-06-08 16:43:31.912939\n",
      "guns n' roses  not in artist_dictionary\n",
      "('free', 'free', {'Artist': 'john \"rabbit\" bundrick', 'weight': 0.007602016148065179})\n"
     ]
    }
   ],
   "source": [
    "rand_artist_count = 0\n",
    "rand_artists = []\n",
    "while rand_artist_count < 10:                  # number of random artists\n",
    "    rand = np.random.randint(0,num_artists,1)\n",
    "    rand = rand[0]\n",
    "    if artists[rand] not in rand_artists: #and artists[rand] not in ['mumford & sons','bløf','lil jon & the east side boyz']:\n",
    "        rand_artists.append(artists[rand].lower())\n",
    "        rand_artist_count +=1\n",
    "\n",
    "print(\"multigraph iteration: \")\n",
    "print(rand_artists)\n",
    "print(datetime.now())\n",
    "multigraph = layer_graphs(rand_artists, add_tags = True, size = 400) # node count of each graph\n",
    "\n",
    "print(list(multigraph.edges.data())[1])  # print an edge w/ data to make sure edge weight is correct.\n"
   ]
  },
  {
   "cell_type": "code",
   "execution_count": null,
   "metadata": {},
   "outputs": [],
   "source": [
    "\"\"\"stellargraph from networkx graph\n",
    "The networkx graph is a heterogeneous (has both artist and user-tag type edges) and undirected multigraph.\"\"\"\n"
   ]
  }
 ],
 "metadata": {
  "kernelspec": {
   "display_name": "Python 3",
   "language": "python",
   "name": "python3"
  },
  "language_info": {
   "codemirror_mode": {
    "name": "ipython",
    "version": 3
   },
   "file_extension": ".py",
   "mimetype": "text/x-python",
   "name": "python",
   "nbconvert_exporter": "python",
   "pygments_lexer": "ipython3",
   "version": "3.7.4"
  },
  "varInspector": {
   "cols": {
    "lenName": 16,
    "lenType": 16,
    "lenVar": 40
   },
   "kernels_config": {
    "python": {
     "delete_cmd_postfix": "",
     "delete_cmd_prefix": "del ",
     "library": "var_list.py",
     "varRefreshCmd": "print(var_dic_list())"
    },
    "r": {
     "delete_cmd_postfix": ") ",
     "delete_cmd_prefix": "rm(",
     "library": "var_list.r",
     "varRefreshCmd": "cat(var_dic_list()) "
    }
   },
   "position": {
    "height": "467.85px",
    "left": "1550px",
    "right": "20px",
    "top": "120px",
    "width": "350px"
   },
   "types_to_exclude": [
    "module",
    "function",
    "builtin_function_or_method",
    "instance",
    "_Feature"
   ],
   "window_display": true
  }
 },
 "nbformat": 4,
 "nbformat_minor": 2
}
