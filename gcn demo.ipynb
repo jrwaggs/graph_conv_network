{
 "cells": [
  {
   "cell_type": "code",
   "execution_count": 30,
   "metadata": {},
   "outputs": [],
   "source": [
    "from rdflib.extras.external_graph_libs import *\n",
    "from rdflib import Graph, URIRef, Literal\n",
    "\n",
    "import networkx as nx\n",
    "from networkx.classes.function import info\n",
    "\n",
    "import stellargraph as sg\n",
    "from stellargraph.mapper import RelationalFullBatchNodeGenerator\n",
    "from stellargraph.layer import RGCN\n",
    "\n",
    "import numpy as np\n",
    "import matplotlib.pyplot as plt\n",
    "import os\n",
    "import pandas as pd\n",
    "\n",
    "import tensorflow as tf\n",
    "tf.compat.v1.disable_eager_execution() # needed to fix conversion error, but why?\n",
    "\n",
    "from tensorflow import keras\n",
    "from tensorflow.keras.layers import Dense\n",
    "from tensorflow.keras.models import Model\n",
    "\n",
    "import sklearn\n",
    "from sklearn import model_selection\n",
    "from collections import Counter\n",
    "from stellargraph import datasets\n",
    "from IPython.display import display, HTML\n",
    "import matplotlib.pyplot as plt\n",
    "%matplotlib inline"
   ]
  },
  {
   "cell_type": "code",
   "execution_count": 31,
   "metadata": {},
   "outputs": [
    {
     "data": {
      "text/html": [
       "The AIFB dataset describes the AIFB research institute in terms of its staff, research group, and publications. First used for machine learning with RDF in Bloehdorn, Stephan and Sure, York, \"Kernel Methods for Mining Instance Data in Ontologies\", The Semantic Web (2008), http://dx.doi.org/10.1007/978-3-540-76298-0_5. It contains ~8k entities, ~29k edges, and 45 different relationships or edge types. In (Bloehdorn et al 2007) the dataset was first used to predict the affiliation (i.e., research group) for people in the dataset. The dataset contains 178 members of a research group with 5 different research groups. The goal is to predict which research group a researcher belongs to."
      ],
      "text/plain": [
       "<IPython.core.display.HTML object>"
      ]
     },
     "metadata": {},
     "output_type": "display_data"
    }
   ],
   "source": [
    "dataset = datasets.AIFB()\n",
    "display(HTML(dataset.description))\n",
    "G, affiliation = dataset.load()"
   ]
  },
  {
   "cell_type": "code",
   "execution_count": 32,
   "metadata": {},
   "outputs": [
    {
     "data": {
      "text/plain": [
       "<http://www.aifb.uni-karlsruhe.de/Forschungsgruppen/viewForschungsgruppeOWL/id1instance>    uint8\n",
       "<http://www.aifb.uni-karlsruhe.de/Forschungsgruppen/viewForschungsgruppeOWL/id2instance>    uint8\n",
       "<http://www.aifb.uni-karlsruhe.de/Forschungsgruppen/viewForschungsgruppeOWL/id3instance>    uint8\n",
       "<http://www.aifb.uni-karlsruhe.de/Forschungsgruppen/viewForschungsgruppeOWL/id4instance>    uint8\n",
       "<http://www.aifb.uni-karlsruhe.de/Forschungsgruppen/viewForschungsgruppeOWL/id5instance>    uint8\n",
       "dtype: object"
      ]
     },
     "execution_count": 32,
     "metadata": {},
     "output_type": "execute_result"
    }
   ],
   "source": [
    "affiliation.dtypes"
   ]
  },
  {
   "cell_type": "code",
   "execution_count": 33,
   "metadata": {},
   "outputs": [
    {
     "name": "stdout",
     "output_type": "stream",
     "text": [
      "StellarDiGraph: Directed multigraph\n",
      " Nodes: 8285, Edges: 29043\n",
      "\n",
      " Node types:\n",
      "  default: [8285]\n",
      "    Features: float32 vector, length 8285\n",
      "    Edge types: default-http://swrc.ontoware.org/ontology#abstract->default, default-http://swrc.ontoware.org/ontology#address->default, default-http://swrc.ontoware.org/ontology#author->default, default-http://swrc.ontoware.org/ontology#booktitle->default, default-http://swrc.ontoware.org/ontology#carriedOutBy->default, ... (40 more)\n",
      "\n",
      " Edge types:\n",
      "    default-http://swrc.ontoware.org/ontology#publication->default: [4163]\n",
      "        Weights: all 1 (default)\n",
      "        Features: none\n",
      "    default-http://www.w3.org/1999/02/22-rdf-syntax-ns#type->default: [4124]\n",
      "        Weights: all 1 (default)\n",
      "        Features: none\n",
      "    default-http://swrc.ontoware.org/ontology#author->default: [3986]\n",
      "        Weights: all 1 (default)\n",
      "        Features: none\n",
      "    default-http://swrc.ontoware.org/ontology#isAbout->default: [2477]\n",
      "        Weights: all 1 (default)\n",
      "        Features: none\n",
      "    default-http://swrc.ontoware.org/ontology#name->default: [1302]\n",
      "        Weights: all 1 (default)\n",
      "        Features: none\n",
      "    default-http://swrc.ontoware.org/ontology#year->default: [1227]\n",
      "        Weights: all 1 (default)\n",
      "        Features: none\n",
      "    default-http://swrc.ontoware.org/ontology#title->default: [1227]\n",
      "        Weights: all 1 (default)\n",
      "        Features: none\n",
      "    default-http://swrc.ontoware.org/ontology#publishes->default: [1217]\n",
      "        Weights: all 1 (default)\n",
      "        Features: none\n",
      "    default-http://swrc.ontoware.org/ontology#projectInfo->default: [952]\n",
      "        Weights: all 1 (default)\n",
      "        Features: none\n",
      "    default-http://swrc.ontoware.org/ontology#hasProject->default: [952]\n",
      "        Weights: all 1 (default)\n",
      "        Features: none\n",
      "    default-http://swrc.ontoware.org/ontology#booktitle->default: [765]\n",
      "        Weights: all 1 (default)\n",
      "        Features: none\n",
      "    default-http://swrc.ontoware.org/ontology#month->default: [759]\n",
      "        Weights: all 1 (default)\n",
      "        Features: none\n",
      "    default-http://swrc.ontoware.org/ontology#isWorkedOnBy->default: [571]\n",
      "        Weights: all 1 (default)\n",
      "        Features: none\n",
      "    default-http://swrc.ontoware.org/ontology#pages->default: [548]\n",
      "        Weights: all 1 (default)\n",
      "        Features: none\n",
      "    default-http://swrc.ontoware.org/ontology#abstract->default: [534]\n",
      "        Weights: all 1 (default)\n",
      "        Features: none\n",
      "    default-http://swrc.ontoware.org/ontology#dealtWithIn->default: [357]\n",
      "        Weights: all 1 (default)\n",
      "        Features: none\n",
      "    default-http://swrc.ontoware.org/ontology#member->default: [339]\n",
      "        Weights: all 1 (default)\n",
      "        Features: none\n",
      "    default-http://swrc.ontoware.org/ontology#volume->default: [311]\n",
      "        Weights: all 1 (default)\n",
      "        Features: none\n",
      "    default-http://swrc.ontoware.org/ontology#series->default: [298]\n",
      "        Weights: all 1 (default)\n",
      "        Features: none\n",
      "    default-http://swrc.ontoware.org/ontology#homepage->default: [239]\n",
      "        Weights: all 1 (default)\n",
      "        Features: none\n",
      "    ... (25 more)\n"
     ]
    }
   ],
   "source": [
    "print(G.info())"
   ]
  },
  {
   "cell_type": "code",
   "execution_count": 34,
   "metadata": {},
   "outputs": [
    {
     "name": "stdout",
     "output_type": "stream",
     "text": [
      "<class 'pandas.core.frame.DataFrame'>\n",
      "<class 'pandas.core.frame.DataFrame'>\n"
     ]
    }
   ],
   "source": [
    "train_targets, test_targets = model_selection.train_test_split(\n",
    "    affiliation, train_size=0.8, test_size=None\n",
    ")\n",
    "\n",
    "print(type(train_targets))\n",
    "print(type(test_targets))"
   ]
  },
  {
   "cell_type": "code",
   "execution_count": 35,
   "metadata": {},
   "outputs": [
    {
     "name": "stdout",
     "output_type": "stream",
     "text": [
      "<class 'stellargraph.mapper.sequences.RelationalFullBatchNodeSequence'>\n",
      "<class 'stellargraph.mapper.sequences.RelationalFullBatchNodeSequence'>\n"
     ]
    }
   ],
   "source": [
    "generator = RelationalFullBatchNodeGenerator(G, sparse=True)\n",
    "\n",
    "train_gen = generator.flow(train_targets.index, targets=train_targets)\n",
    "test_gen = generator.flow(test_targets.index, targets=test_targets)\n",
    "\n",
    "print(type(train_gen))\n",
    "print(type(test_gen))"
   ]
  },
  {
   "cell_type": "code",
   "execution_count": 36,
   "metadata": {},
   "outputs": [],
   "source": [
    "rgcn = RGCN(\n",
    "    layer_sizes=[32, 32],\n",
    "    activations=[\"relu\", \"relu\"],\n",
    "    generator=generator,\n",
    "    bias=True,\n",
    "    num_bases=20,\n",
    "    dropout=0.5,\n",
    ")"
   ]
  },
  {
   "cell_type": "code",
   "execution_count": 37,
   "metadata": {},
   "outputs": [
    {
     "name": "stdout",
     "output_type": "stream",
     "text": [
      "WARNING:tensorflow:From C:\\Users\\Waggoner\\AppData\\Roaming\\Python\\Python37\\site-packages\\tensorflow\\python\\ops\\resource_variable_ops.py:1666: calling BaseResourceVariable.__init__ (from tensorflow.python.ops.resource_variable_ops) with constraint is deprecated and will be removed in a future version.\n",
      "Instructions for updating:\n",
      "If using Keras pass *_constraint arguments to layers.\n",
      "<class 'list'>\n",
      "<class 'tensorflow.python.framework.ops.Tensor'>\n"
     ]
    }
   ],
   "source": [
    "x_in, x_out = rgcn.in_out_tensors()\n",
    "#x_in = np.asarray(x_in)\n",
    "predictions = Dense(train_targets.shape[-1], activation=\"softmax\")(x_out)\n",
    "model = Model(inputs=x_in, outputs=predictions)\n",
    "model.compile(\n",
    "    loss=\"categorical_crossentropy\",\n",
    "    optimizer=keras.optimizers.Adam(0.01),\n",
    "    metrics=[\"acc\"],\n",
    ")\n",
    "\n",
    "\n",
    "print(type(x_in))\n",
    "print(type(x_out))"
   ]
  },
  {
   "cell_type": "code",
   "execution_count": 38,
   "metadata": {},
   "outputs": [
    {
     "name": "stdout",
     "output_type": "stream",
     "text": [
      "Epoch 1/20\n",
      "1/1 [==============================] - 8s 8s/step - loss: 1.6047 - acc: 0.3239 - val_loss: 1.5383 - val_acc: 0.6111\n",
      "Epoch 2/20\n",
      "1/1 [==============================] - 6s 6s/step - loss: 1.5308 - acc: 0.5986 - val_loss: 1.3711 - val_acc: 0.6389\n",
      "Epoch 3/20\n",
      "1/1 [==============================] - 7s 7s/step - loss: 1.3293 - acc: 0.6761 - val_loss: 1.0481 - val_acc: 0.6389\n",
      "Epoch 4/20\n",
      "1/1 [==============================] - 6s 6s/step - loss: 0.9546 - acc: 0.6972 - val_loss: 0.8143 - val_acc: 0.6944\n",
      "Epoch 5/20\n",
      "1/1 [==============================] - 6s 6s/step - loss: 0.8252 - acc: 0.7394 - val_loss: 0.7086 - val_acc: 0.7222\n",
      "Epoch 6/20\n",
      "1/1 [==============================] - 6s 6s/step - loss: 0.6394 - acc: 0.8169 - val_loss: 0.6157 - val_acc: 0.8056\n",
      "Epoch 7/20\n",
      "1/1 [==============================] - 6s 6s/step - loss: 0.5068 - acc: 0.8944 - val_loss: 0.5283 - val_acc: 0.8611\n",
      "Epoch 8/20\n",
      "1/1 [==============================] - 6s 6s/step - loss: 0.3919 - acc: 0.9296 - val_loss: 0.4493 - val_acc: 0.8889\n",
      "Epoch 9/20\n",
      "1/1 [==============================] - 6s 6s/step - loss: 0.3569 - acc: 0.9366 - val_loss: 0.3936 - val_acc: 0.8889\n",
      "Epoch 10/20\n",
      "1/1 [==============================] - 6s 6s/step - loss: 0.3045 - acc: 0.9366 - val_loss: 0.3547 - val_acc: 0.8889\n",
      "Epoch 11/20\n",
      "1/1 [==============================] - 6s 6s/step - loss: 0.2216 - acc: 0.9648 - val_loss: 0.3316 - val_acc: 0.8889\n",
      "Epoch 12/20\n",
      "1/1 [==============================] - 6s 6s/step - loss: 0.2194 - acc: 0.9507 - val_loss: 0.3183 - val_acc: 0.8889\n",
      "Epoch 13/20\n",
      "1/1 [==============================] - 6s 6s/step - loss: 0.2096 - acc: 0.9507 - val_loss: 0.3138 - val_acc: 0.8889\n",
      "Epoch 14/20\n",
      "1/1 [==============================] - 6s 6s/step - loss: 0.2050 - acc: 0.9437 - val_loss: 0.3174 - val_acc: 0.8889\n",
      "Epoch 15/20\n",
      "1/1 [==============================] - 6s 6s/step - loss: 0.1321 - acc: 0.9577 - val_loss: 0.3278 - val_acc: 0.8889\n",
      "Epoch 16/20\n",
      "1/1 [==============================] - 6s 6s/step - loss: 0.1503 - acc: 0.9507 - val_loss: 0.3431 - val_acc: 0.8889\n",
      "Epoch 17/20\n",
      "1/1 [==============================] - 6s 6s/step - loss: 0.2060 - acc: 0.9507 - val_loss: 0.3619 - val_acc: 0.8889\n",
      "Epoch 18/20\n",
      "1/1 [==============================] - 6s 6s/step - loss: 0.1684 - acc: 0.9437 - val_loss: 0.3816 - val_acc: 0.8889\n",
      "Epoch 19/20\n",
      "1/1 [==============================] - 6s 6s/step - loss: 0.1263 - acc: 0.9577 - val_loss: 0.4010 - val_acc: 0.8889\n",
      "Epoch 20/20\n",
      "1/1 [==============================] - 6s 6s/step - loss: 0.0986 - acc: 0.9577 - val_loss: 0.4212 - val_acc: 0.8889\n"
     ]
    }
   ],
   "source": [
    "history = model.fit(train_gen, validation_data=test_gen, epochs=20)"
   ]
  },
  {
   "cell_type": "code",
   "execution_count": 39,
   "metadata": {},
   "outputs": [
    {
     "data": {
      "image/png": "[encoded data removed]",
      "text/plain": [
       "<Figure size 504x576 with 2 Axes>"
      ]
     },
     "metadata": {
      "needs_background": "light"
     },
     "output_type": "display_data"
    }
   ],
   "source": [
    "sg.utils.plot_history(history)"
   ]
  },
  {
   "cell_type": "code",
   "execution_count": 40,
   "metadata": {},
   "outputs": [
    {
     "name": "stdout",
     "output_type": "stream",
     "text": [
      "\n",
      "Test Set Metrics:\n",
      "\tloss: 0.4212\n",
      "\tacc: 0.8889\n"
     ]
    }
   ],
   "source": [
    "\n",
    "test_metrics = model.evaluate(test_gen)\n",
    "print(\"\\nTest Set Metrics:\")\n",
    "for name, val in zip(model.metrics_names, test_metrics):\n",
    "    print(\"\\t{}: {:0.4f}\".format(name, val))\n",
    "\n"
   ]
  },
  {
   "cell_type": "code",
   "execution_count": 43,
   "metadata": {},
   "outputs": [],
   "source": [
    "from sklearn.decomposition import PCA\n",
    "from sklearn.manifold import TSNE\n",
    "\n",
    "# get embeddings for all people nodes\n",
    "all_gen = generator.flow(affiliation.index, targets=affiliation)\n",
    "embedding_model = Model(inputs=x_in, outputs=x_out)\n",
    "emb = embedding_model.predict(all_gen)\n",
    "\n",
    "X = emb.squeeze(0)\n",
    "y = affiliation.idxmax(axis=\"columns\").astype(\"category\")\n",
    "\n",
    "if X.shape[1] > 2:\n",
    "    transform = TSNE\n",
    "\n",
    "    trans = transform(n_components=2)\n",
    "    emb_transformed = pd.DataFrame(trans.fit_transform(X), index=affiliation.index)\n",
    "    emb_transformed[\"label\"] = y\n",
    "else:\n",
    "    emb_transformed = pd.DataFrame(X, index=affiliation.index)\n",
    "    emb_transformed = emb_transformed.rename(columns={\"0\": 0, \"1\": 1})\n",
    "    emb_transformed[\"label\"] = y"
   ]
  },
  {
   "cell_type": "code",
   "execution_count": 44,
   "metadata": {},
   "outputs": [
    {
     "data": {
      "image/png": "[encoded data removed]",
      "text/plain": [
       "<Figure size 504x504 with 1 Axes>"
      ]
     },
     "metadata": {
      "needs_background": "light"
     },
     "output_type": "display_data"
    }
   ],
   "source": [
    "alpha = 0.7\n",
    "\n",
    "fig, ax = plt.subplots(figsize=(7, 7))\n",
    "ax.scatter(\n",
    "    emb_transformed[0],\n",
    "    emb_transformed[1],\n",
    "    c=emb_transformed[\"label\"].cat.codes,\n",
    "    cmap=\"jet\",\n",
    "    alpha=alpha,\n",
    ")\n",
    "ax.set(aspect=\"equal\", xlabel=\"$X_1$\", ylabel=\"$X_2$\")\n",
    "plt.title(\n",
    "    \"{} visualization of RGCN embeddings for AIFB dataset\".format(transform.__name__)\n",
    ")\n",
    "plt.show()"
   ]
  }
 ],
 "metadata": {
  "kernelspec": {
   "display_name": "Python 3",
   "language": "python",
   "name": "python3"
  },
  "language_info": {
   "codemirror_mode": {
    "name": "ipython",
    "version": 3
   },
   "file_extension": ".py",
   "mimetype": "text/x-python",
   "name": "python",
   "nbconvert_exporter": "python",
   "pygments_lexer": "ipython3",
   "version": "3.7.4"
  },
  "varInspector": {
   "cols": {
    "lenName": 16,
    "lenType": 16,
    "lenVar": 40
   },
   "kernels_config": {
    "python": {
     "delete_cmd_postfix": "",
     "delete_cmd_prefix": "del ",
     "library": "var_list.py",
     "varRefreshCmd": "print(var_dic_list())"
    },
    "r": {
     "delete_cmd_postfix": ") ",
     "delete_cmd_prefix": "rm(",
     "library": "var_list.r",
     "varRefreshCmd": "cat(var_dic_list()) "
    }
   },
   "types_to_exclude": [
    "module",
    "function",
    "builtin_function_or_method",
    "instance",
    "_Feature"
   ],
   "window_display": false
  }
 },
 "nbformat": 4,
 "nbformat_minor": 2
}
