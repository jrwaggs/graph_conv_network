{
 "cells": [
  {
   "cell_type": "code",
   "execution_count": 2,
   "metadata": {},
   "outputs": [],
   "source": [
    "import pandas as pd\n",
    "import os\n",
    "\n",
    "import stellargraph as sg\n",
    "from stellargraph.mapper import FullBatchNodeGenerator\n",
    "from stellargraph.layer import GCN\n",
    "\n",
    "from tensorflow.keras import layers, optimizers, losses, metrics, Model\n",
    "from sklearn import preprocessing, model_selection\n",
    "from IPython.display import display, HTML\n",
    "import matplotlib.pyplot as plt\n",
    "%matplotlib inline"
   ]
  },
  {
   "cell_type": "code",
   "execution_count": 3,
   "metadata": {},
   "outputs": [
    {
     "data": {
      "text/html": [
       "The Cora dataset consists of 2708 scientific publications classified into one of seven classes. The citation network consists of 5429 links. Each publication in the dataset is described by a 0/1-valued word vector indicating the absence/presence of the corresponding word from the dictionary. The dictionary consists of 1433 unique words."
      ],
      "text/plain": [
       "<IPython.core.display.HTML object>"
      ]
     },
     "metadata": {},
     "output_type": "display_data"
    }
   ],
   "source": [
    "dataset = sg.datasets.Cora()\n",
    "display(HTML(dataset.description))\n",
    "G, node_subjects = dataset.load()"
   ]
  },
  {
   "cell_type": "code",
   "execution_count": 4,
   "metadata": {},
   "outputs": [
    {
     "name": "stdout",
     "output_type": "stream",
     "text": [
      "StellarGraph: Undirected multigraph\n",
      " Nodes: 2708, Edges: 5429\n",
      "\n",
      " Node types:\n",
      "  paper: [2708]\n",
      "    Features: float32 vector, length 1433\n",
      "    Edge types: paper-cites->paper\n",
      "\n",
      " Edge types:\n",
      "    paper-cites->paper: [5429]\n",
      "        Weights: all 1 (default)\n",
      "        Features: none\n"
     ]
    }
   ],
   "source": [
    "print(G.info())"
   ]
  },
  {
   "cell_type": "code",
   "execution_count": 5,
   "metadata": {},
   "outputs": [
    {
     "data": {
      "text/html": [
       "<div>\n",
       "<style scoped>\n",
       "    .dataframe tbody tr th:only-of-type {\n",
       "        vertical-align: middle;\n",
       "    }\n",
       "\n",
       "    .dataframe tbody tr th {\n",
       "        vertical-align: top;\n",
       "    }\n",
       "\n",
       "    .dataframe thead th {\n",
       "        text-align: right;\n",
       "    }\n",
       "</style>\n",
       "<table border=\"1\" class=\"dataframe\">\n",
       "  <thead>\n",
       "    <tr style=\"text-align: right;\">\n",
       "      <th></th>\n",
       "      <th>subject</th>\n",
       "    </tr>\n",
       "  </thead>\n",
       "  <tbody>\n",
       "    <tr>\n",
       "      <td>Neural_Networks</td>\n",
       "      <td>818</td>\n",
       "    </tr>\n",
       "    <tr>\n",
       "      <td>Probabilistic_Methods</td>\n",
       "      <td>426</td>\n",
       "    </tr>\n",
       "    <tr>\n",
       "      <td>Genetic_Algorithms</td>\n",
       "      <td>418</td>\n",
       "    </tr>\n",
       "    <tr>\n",
       "      <td>Theory</td>\n",
       "      <td>351</td>\n",
       "    </tr>\n",
       "    <tr>\n",
       "      <td>Case_Based</td>\n",
       "      <td>298</td>\n",
       "    </tr>\n",
       "    <tr>\n",
       "      <td>Reinforcement_Learning</td>\n",
       "      <td>217</td>\n",
       "    </tr>\n",
       "    <tr>\n",
       "      <td>Rule_Learning</td>\n",
       "      <td>180</td>\n",
       "    </tr>\n",
       "  </tbody>\n",
       "</table>\n",
       "</div>"
      ],
      "text/plain": [
       "                        subject\n",
       "Neural_Networks             818\n",
       "Probabilistic_Methods       426\n",
       "Genetic_Algorithms          418\n",
       "Theory                      351\n",
       "Case_Based                  298\n",
       "Reinforcement_Learning      217\n",
       "Rule_Learning               180"
      ]
     },
     "execution_count": 5,
     "metadata": {},
     "output_type": "execute_result"
    }
   ],
   "source": [
    "node_subjects.value_counts().to_frame()"
   ]
  },
  {
   "cell_type": "code",
   "execution_count": 6,
   "metadata": {},
   "outputs": [
    {
     "data": {
      "text/html": [
       "<div>\n",
       "<style scoped>\n",
       "    .dataframe tbody tr th:only-of-type {\n",
       "        vertical-align: middle;\n",
       "    }\n",
       "\n",
       "    .dataframe tbody tr th {\n",
       "        vertical-align: top;\n",
       "    }\n",
       "\n",
       "    .dataframe thead th {\n",
       "        text-align: right;\n",
       "    }\n",
       "</style>\n",
       "<table border=\"1\" class=\"dataframe\">\n",
       "  <thead>\n",
       "    <tr style=\"text-align: right;\">\n",
       "      <th></th>\n",
       "      <th>subject</th>\n",
       "    </tr>\n",
       "  </thead>\n",
       "  <tbody>\n",
       "    <tr>\n",
       "      <td>31336</td>\n",
       "      <td>Neural_Networks</td>\n",
       "    </tr>\n",
       "    <tr>\n",
       "      <td>1061127</td>\n",
       "      <td>Rule_Learning</td>\n",
       "    </tr>\n",
       "    <tr>\n",
       "      <td>1106406</td>\n",
       "      <td>Reinforcement_Learning</td>\n",
       "    </tr>\n",
       "    <tr>\n",
       "      <td>13195</td>\n",
       "      <td>Reinforcement_Learning</td>\n",
       "    </tr>\n",
       "    <tr>\n",
       "      <td>37879</td>\n",
       "      <td>Probabilistic_Methods</td>\n",
       "    </tr>\n",
       "    <tr>\n",
       "      <td>...</td>\n",
       "      <td>...</td>\n",
       "    </tr>\n",
       "    <tr>\n",
       "      <td>1128975</td>\n",
       "      <td>Genetic_Algorithms</td>\n",
       "    </tr>\n",
       "    <tr>\n",
       "      <td>1128977</td>\n",
       "      <td>Genetic_Algorithms</td>\n",
       "    </tr>\n",
       "    <tr>\n",
       "      <td>1128978</td>\n",
       "      <td>Genetic_Algorithms</td>\n",
       "    </tr>\n",
       "    <tr>\n",
       "      <td>117328</td>\n",
       "      <td>Case_Based</td>\n",
       "    </tr>\n",
       "    <tr>\n",
       "      <td>24043</td>\n",
       "      <td>Neural_Networks</td>\n",
       "    </tr>\n",
       "  </tbody>\n",
       "</table>\n",
       "<p>2708 rows × 1 columns</p>\n",
       "</div>"
      ],
      "text/plain": [
       "                        subject\n",
       "31336           Neural_Networks\n",
       "1061127           Rule_Learning\n",
       "1106406  Reinforcement_Learning\n",
       "13195    Reinforcement_Learning\n",
       "37879     Probabilistic_Methods\n",
       "...                         ...\n",
       "1128975      Genetic_Algorithms\n",
       "1128977      Genetic_Algorithms\n",
       "1128978      Genetic_Algorithms\n",
       "117328               Case_Based\n",
       "24043           Neural_Networks\n",
       "\n",
       "[2708 rows x 1 columns]"
      ]
     },
     "execution_count": 6,
     "metadata": {},
     "output_type": "execute_result"
    }
   ],
   "source": [
    "node_subjects.to_frame()"
   ]
  },
  {
   "cell_type": "code",
   "execution_count": 7,
   "metadata": {},
   "outputs": [],
   "source": [
    "train_subjects, test_subjects = model_selection.train_test_split(\n",
    "    node_subjects, train_size=140, test_size=None, stratify=node_subjects\n",
    ")\n",
    "val_subjects, test_subjects = model_selection.train_test_split(\n",
    "    test_subjects, train_size=500, test_size=None, stratify=test_subjects\n",
    ")"
   ]
  },
  {
   "cell_type": "code",
   "execution_count": 8,
   "metadata": {},
   "outputs": [
    {
     "data": {
      "text/html": [
       "<div>\n",
       "<style scoped>\n",
       "    .dataframe tbody tr th:only-of-type {\n",
       "        vertical-align: middle;\n",
       "    }\n",
       "\n",
       "    .dataframe tbody tr th {\n",
       "        vertical-align: top;\n",
       "    }\n",
       "\n",
       "    .dataframe thead th {\n",
       "        text-align: right;\n",
       "    }\n",
       "</style>\n",
       "<table border=\"1\" class=\"dataframe\">\n",
       "  <thead>\n",
       "    <tr style=\"text-align: right;\">\n",
       "      <th></th>\n",
       "      <th>subject</th>\n",
       "    </tr>\n",
       "  </thead>\n",
       "  <tbody>\n",
       "    <tr>\n",
       "      <td>Neural_Networks</td>\n",
       "      <td>42</td>\n",
       "    </tr>\n",
       "    <tr>\n",
       "      <td>Probabilistic_Methods</td>\n",
       "      <td>22</td>\n",
       "    </tr>\n",
       "    <tr>\n",
       "      <td>Genetic_Algorithms</td>\n",
       "      <td>22</td>\n",
       "    </tr>\n",
       "    <tr>\n",
       "      <td>Theory</td>\n",
       "      <td>18</td>\n",
       "    </tr>\n",
       "    <tr>\n",
       "      <td>Case_Based</td>\n",
       "      <td>16</td>\n",
       "    </tr>\n",
       "    <tr>\n",
       "      <td>Reinforcement_Learning</td>\n",
       "      <td>11</td>\n",
       "    </tr>\n",
       "    <tr>\n",
       "      <td>Rule_Learning</td>\n",
       "      <td>9</td>\n",
       "    </tr>\n",
       "  </tbody>\n",
       "</table>\n",
       "</div>"
      ],
      "text/plain": [
       "                        subject\n",
       "Neural_Networks              42\n",
       "Probabilistic_Methods        22\n",
       "Genetic_Algorithms           22\n",
       "Theory                       18\n",
       "Case_Based                   16\n",
       "Reinforcement_Learning       11\n",
       "Rule_Learning                 9"
      ]
     },
     "execution_count": 8,
     "metadata": {},
     "output_type": "execute_result"
    }
   ],
   "source": [
    "train_subjects.value_counts().to_frame()"
   ]
  },
  {
   "cell_type": "code",
   "execution_count": 9,
   "metadata": {},
   "outputs": [],
   "source": [
    "target_encoding = preprocessing.LabelBinarizer()\n",
    "\n",
    "train_targets = target_encoding.fit_transform(train_subjects)\n",
    "val_targets = target_encoding.transform(val_subjects)\n",
    "test_targets = target_encoding.transform(test_subjects)"
   ]
  },
  {
   "cell_type": "code",
   "execution_count": 10,
   "metadata": {},
   "outputs": [
    {
     "name": "stdout",
     "output_type": "stream",
     "text": [
      "Using GCN (local pooling) filters...\n"
     ]
    }
   ],
   "source": [
    "generator = FullBatchNodeGenerator(G, method=\"gcn\")"
   ]
  },
  {
   "cell_type": "code",
   "execution_count": 11,
   "metadata": {},
   "outputs": [],
   "source": [
    "train_gen = generator.flow(train_subjects.index, train_targets)"
   ]
  },
  {
   "cell_type": "code",
   "execution_count": 12,
   "metadata": {},
   "outputs": [],
   "source": [
    "gcn = GCN(\n",
    "    layer_sizes=[16, 16], activations=[\"relu\", \"relu\"], generator=generator, dropout=0.5\n",
    ")"
   ]
  },
  {
   "cell_type": "code",
   "execution_count": 13,
   "metadata": {},
   "outputs": [
    {
     "data": {
      "text/plain": [
       "<tf.Tensor 'gather_indices/Identity:0' shape=(1, None, 16) dtype=float32>"
      ]
     },
     "execution_count": 13,
     "metadata": {},
     "output_type": "execute_result"
    }
   ],
   "source": [
    "x_inp, x_out = gcn.in_out_tensors()\n",
    "\n",
    "x_out"
   ]
  },
  {
   "cell_type": "code",
   "execution_count": 14,
   "metadata": {},
   "outputs": [],
   "source": [
    "\n",
    "predictions = layers.Dense(units=train_targets.shape[1], activation=\"softmax\")(x_out)\n",
    "\n"
   ]
  },
  {
   "cell_type": "code",
   "execution_count": 15,
   "metadata": {},
   "outputs": [],
   "source": [
    "model = Model(inputs=x_inp, outputs=predictions)\n",
    "model.compile(\n",
    "    optimizer=optimizers.Adam(lr=0.01),\n",
    "    loss=losses.categorical_crossentropy,\n",
    "    metrics=[\"acc\"],\n",
    ")"
   ]
  },
  {
   "cell_type": "code",
   "execution_count": 16,
   "metadata": {},
   "outputs": [],
   "source": [
    "val_gen = generator.flow(val_subjects.index, val_targets)"
   ]
  },
  {
   "cell_type": "code",
   "execution_count": 17,
   "metadata": {},
   "outputs": [],
   "source": [
    "from tensorflow.keras.callbacks import EarlyStopping\n",
    "\n",
    "es_callback = EarlyStopping(monitor=\"val_acc\", patience=50, restore_best_weights=True)"
   ]
  },
  {
   "cell_type": "code",
   "execution_count": 18,
   "metadata": {},
   "outputs": [
    {
     "name": "stdout",
     "output_type": "stream",
     "text": [
      "Epoch 1/200\n",
      "1/1 - 0s - loss: 1.9518 - acc: 0.1786 - val_loss: 1.9297 - val_acc: 0.3320\n",
      "Epoch 2/200\n",
      "1/1 - 0s - loss: 1.9254 - acc: 0.2857 - val_loss: 1.9015 - val_acc: 0.4520\n",
      "Epoch 3/200\n",
      "1/1 - 0s - loss: 1.8885 - acc: 0.3857 - val_loss: 1.8589 - val_acc: 0.4680\n",
      "Epoch 4/200\n",
      "1/1 - 0s - loss: 1.8300 - acc: 0.5071 - val_loss: 1.8109 - val_acc: 0.4280\n",
      "Epoch 5/200\n",
      "1/1 - 0s - loss: 1.7672 - acc: 0.4857 - val_loss: 1.7577 - val_acc: 0.4220\n",
      "Epoch 6/200\n",
      "1/1 - 0s - loss: 1.7027 - acc: 0.4786 - val_loss: 1.6988 - val_acc: 0.4380\n",
      "Epoch 7/200\n",
      "1/1 - 0s - loss: 1.6042 - acc: 0.5286 - val_loss: 1.6339 - val_acc: 0.4620\n",
      "Epoch 8/200\n",
      "1/1 - 0s - loss: 1.5044 - acc: 0.5786 - val_loss: 1.5596 - val_acc: 0.5120\n",
      "Epoch 9/200\n",
      "1/1 - 0s - loss: 1.4287 - acc: 0.5929 - val_loss: 1.4815 - val_acc: 0.5400\n",
      "Epoch 10/200\n",
      "1/1 - 0s - loss: 1.3126 - acc: 0.6500 - val_loss: 1.4059 - val_acc: 0.5660\n",
      "Epoch 11/200\n",
      "1/1 - 0s - loss: 1.2339 - acc: 0.6643 - val_loss: 1.3337 - val_acc: 0.5740\n",
      "Epoch 12/200\n",
      "1/1 - 0s - loss: 1.1338 - acc: 0.6929 - val_loss: 1.2619 - val_acc: 0.5700\n",
      "Epoch 13/200\n",
      "1/1 - 0s - loss: 1.0409 - acc: 0.7214 - val_loss: 1.1891 - val_acc: 0.5960\n",
      "Epoch 14/200\n",
      "1/1 - 0s - loss: 0.9427 - acc: 0.7143 - val_loss: 1.1196 - val_acc: 0.6340\n",
      "Epoch 15/200\n",
      "1/1 - 0s - loss: 0.8575 - acc: 0.7857 - val_loss: 1.0591 - val_acc: 0.6580\n",
      "Epoch 16/200\n",
      "1/1 - 0s - loss: 0.7691 - acc: 0.7714 - val_loss: 1.0057 - val_acc: 0.6920\n",
      "Epoch 17/200\n",
      "1/1 - 0s - loss: 0.7187 - acc: 0.7714 - val_loss: 0.9493 - val_acc: 0.7180\n",
      "Epoch 18/200\n",
      "1/1 - 0s - loss: 0.6307 - acc: 0.8071 - val_loss: 0.8976 - val_acc: 0.7340\n",
      "Epoch 19/200\n",
      "1/1 - 0s - loss: 0.6073 - acc: 0.8143 - val_loss: 0.8556 - val_acc: 0.7380\n",
      "Epoch 20/200\n",
      "1/1 - 0s - loss: 0.5727 - acc: 0.8429 - val_loss: 0.8226 - val_acc: 0.7540\n",
      "Epoch 21/200\n",
      "1/1 - 0s - loss: 0.5365 - acc: 0.8429 - val_loss: 0.7957 - val_acc: 0.7540\n",
      "Epoch 22/200\n",
      "1/1 - 0s - loss: 0.4257 - acc: 0.8786 - val_loss: 0.7717 - val_acc: 0.7640\n",
      "Epoch 23/200\n",
      "1/1 - 0s - loss: 0.4174 - acc: 0.8429 - val_loss: 0.7530 - val_acc: 0.7680\n",
      "Epoch 24/200\n",
      "1/1 - 0s - loss: 0.3489 - acc: 0.9071 - val_loss: 0.7409 - val_acc: 0.7640\n",
      "Epoch 25/200\n",
      "1/1 - 0s - loss: 0.2967 - acc: 0.9429 - val_loss: 0.7310 - val_acc: 0.7640\n",
      "Epoch 26/200\n",
      "1/1 - 0s - loss: 0.2775 - acc: 0.9500 - val_loss: 0.7210 - val_acc: 0.7640\n",
      "Epoch 27/200\n",
      "1/1 - 0s - loss: 0.2705 - acc: 0.9429 - val_loss: 0.7132 - val_acc: 0.7640\n",
      "Epoch 28/200\n",
      "1/1 - 0s - loss: 0.2489 - acc: 0.9500 - val_loss: 0.7067 - val_acc: 0.7720\n",
      "Epoch 29/200\n",
      "1/1 - 0s - loss: 0.1947 - acc: 0.9714 - val_loss: 0.7034 - val_acc: 0.7800\n",
      "Epoch 30/200\n",
      "1/1 - 0s - loss: 0.1983 - acc: 0.9714 - val_loss: 0.7030 - val_acc: 0.7760\n",
      "Epoch 31/200\n",
      "1/1 - 0s - loss: 0.2075 - acc: 0.9500 - val_loss: 0.7038 - val_acc: 0.7780\n",
      "Epoch 32/200\n",
      "1/1 - 0s - loss: 0.1875 - acc: 0.9714 - val_loss: 0.7044 - val_acc: 0.7740\n",
      "Epoch 33/200\n",
      "1/1 - 0s - loss: 0.1671 - acc: 0.9500 - val_loss: 0.7091 - val_acc: 0.7720\n",
      "Epoch 34/200\n",
      "1/1 - 0s - loss: 0.1978 - acc: 0.9714 - val_loss: 0.7155 - val_acc: 0.7660\n",
      "Epoch 35/200\n",
      "1/1 - 0s - loss: 0.1248 - acc: 0.9786 - val_loss: 0.7236 - val_acc: 0.7540\n",
      "Epoch 36/200\n",
      "1/1 - 0s - loss: 0.1374 - acc: 0.9643 - val_loss: 0.7314 - val_acc: 0.7500\n",
      "Epoch 37/200\n",
      "1/1 - 0s - loss: 0.1275 - acc: 0.9571 - val_loss: 0.7385 - val_acc: 0.7520\n",
      "Epoch 38/200\n",
      "1/1 - 0s - loss: 0.1045 - acc: 0.9929 - val_loss: 0.7458 - val_acc: 0.7640\n",
      "Epoch 39/200\n",
      "1/1 - 0s - loss: 0.1022 - acc: 0.9857 - val_loss: 0.7504 - val_acc: 0.7680\n",
      "Epoch 40/200\n",
      "1/1 - 0s - loss: 0.1022 - acc: 0.9714 - val_loss: 0.7533 - val_acc: 0.7680\n",
      "Epoch 41/200\n",
      "1/1 - 0s - loss: 0.1450 - acc: 0.9571 - val_loss: 0.7544 - val_acc: 0.7720\n",
      "Epoch 42/200\n",
      "1/1 - 0s - loss: 0.0821 - acc: 0.9857 - val_loss: 0.7550 - val_acc: 0.7780\n",
      "Epoch 43/200\n",
      "1/1 - 0s - loss: 0.0913 - acc: 0.9714 - val_loss: 0.7552 - val_acc: 0.7840\n",
      "Epoch 44/200\n",
      "1/1 - 0s - loss: 0.1199 - acc: 0.9571 - val_loss: 0.7576 - val_acc: 0.7780\n",
      "Epoch 45/200\n",
      "1/1 - 0s - loss: 0.0651 - acc: 0.9786 - val_loss: 0.7636 - val_acc: 0.7760\n",
      "Epoch 46/200\n",
      "1/1 - 0s - loss: 0.0665 - acc: 0.9857 - val_loss: 0.7710 - val_acc: 0.7740\n",
      "Epoch 47/200\n",
      "1/1 - 0s - loss: 0.0692 - acc: 0.9857 - val_loss: 0.7757 - val_acc: 0.7720\n",
      "Epoch 48/200\n",
      "1/1 - 0s - loss: 0.0794 - acc: 0.9643 - val_loss: 0.7818 - val_acc: 0.7720\n",
      "Epoch 49/200\n",
      "1/1 - 0s - loss: 0.0610 - acc: 0.9857 - val_loss: 0.7855 - val_acc: 0.7720\n",
      "Epoch 50/200\n",
      "1/1 - 0s - loss: 0.0612 - acc: 0.9929 - val_loss: 0.7890 - val_acc: 0.7740\n",
      "Epoch 51/200\n",
      "1/1 - 0s - loss: 0.0634 - acc: 0.9857 - val_loss: 0.7945 - val_acc: 0.7700\n",
      "Epoch 52/200\n",
      "1/1 - 0s - loss: 0.0559 - acc: 1.0000 - val_loss: 0.7965 - val_acc: 0.7740\n",
      "Epoch 53/200\n",
      "1/1 - 0s - loss: 0.0841 - acc: 0.9857 - val_loss: 0.7994 - val_acc: 0.7740\n",
      "Epoch 54/200\n",
      "1/1 - 0s - loss: 0.0397 - acc: 0.9929 - val_loss: 0.8044 - val_acc: 0.7740\n",
      "Epoch 55/200\n",
      "1/1 - 0s - loss: 0.0522 - acc: 0.9857 - val_loss: 0.8086 - val_acc: 0.7740\n",
      "Epoch 56/200\n",
      "1/1 - 0s - loss: 0.0440 - acc: 0.9929 - val_loss: 0.8134 - val_acc: 0.7780\n",
      "Epoch 57/200\n",
      "1/1 - 0s - loss: 0.0548 - acc: 0.9857 - val_loss: 0.8171 - val_acc: 0.7780\n",
      "Epoch 58/200\n",
      "1/1 - 0s - loss: 0.0405 - acc: 0.9929 - val_loss: 0.8198 - val_acc: 0.7800\n",
      "Epoch 59/200\n",
      "1/1 - 0s - loss: 0.0306 - acc: 1.0000 - val_loss: 0.8196 - val_acc: 0.7740\n",
      "Epoch 60/200\n",
      "1/1 - 0s - loss: 0.0230 - acc: 1.0000 - val_loss: 0.8204 - val_acc: 0.7760\n",
      "Epoch 61/200\n",
      "1/1 - 0s - loss: 0.0542 - acc: 0.9857 - val_loss: 0.8230 - val_acc: 0.7800\n",
      "Epoch 62/200\n",
      "1/1 - 0s - loss: 0.0138 - acc: 1.0000 - val_loss: 0.8267 - val_acc: 0.7820\n",
      "Epoch 63/200\n",
      "1/1 - 0s - loss: 0.0409 - acc: 0.9857 - val_loss: 0.8318 - val_acc: 0.7880\n",
      "Epoch 64/200\n",
      "1/1 - 0s - loss: 0.0516 - acc: 0.9857 - val_loss: 0.8380 - val_acc: 0.7880\n",
      "Epoch 65/200\n",
      "1/1 - 0s - loss: 0.0623 - acc: 0.9857 - val_loss: 0.8434 - val_acc: 0.7880\n",
      "Epoch 66/200\n",
      "1/1 - 0s - loss: 0.0826 - acc: 0.9857 - val_loss: 0.8505 - val_acc: 0.7900\n",
      "Epoch 67/200\n",
      "1/1 - 0s - loss: 0.0379 - acc: 0.9929 - val_loss: 0.8592 - val_acc: 0.7860\n",
      "Epoch 68/200\n",
      "1/1 - 0s - loss: 0.0345 - acc: 0.9929 - val_loss: 0.8689 - val_acc: 0.7840\n",
      "Epoch 69/200\n",
      "1/1 - 0s - loss: 0.0477 - acc: 0.9929 - val_loss: 0.8797 - val_acc: 0.7820\n",
      "Epoch 70/200\n",
      "1/1 - 0s - loss: 0.0349 - acc: 1.0000 - val_loss: 0.8901 - val_acc: 0.7760\n",
      "Epoch 71/200\n",
      "1/1 - 0s - loss: 0.0600 - acc: 0.9786 - val_loss: 0.9009 - val_acc: 0.7760\n",
      "Epoch 72/200\n",
      "1/1 - 0s - loss: 0.0406 - acc: 0.9857 - val_loss: 0.9076 - val_acc: 0.7680\n",
      "Epoch 73/200\n",
      "1/1 - 0s - loss: 0.0364 - acc: 0.9929 - val_loss: 0.9124 - val_acc: 0.7680\n",
      "Epoch 74/200\n",
      "1/1 - 0s - loss: 0.0716 - acc: 0.9786 - val_loss: 0.9134 - val_acc: 0.7680\n",
      "Epoch 75/200\n",
      "1/1 - 0s - loss: 0.0392 - acc: 0.9857 - val_loss: 0.9133 - val_acc: 0.7720\n",
      "Epoch 76/200\n",
      "1/1 - 0s - loss: 0.0562 - acc: 0.9786 - val_loss: 0.9134 - val_acc: 0.7720\n",
      "Epoch 77/200\n",
      "1/1 - 0s - loss: 0.0254 - acc: 0.9929 - val_loss: 0.9173 - val_acc: 0.7660\n",
      "Epoch 78/200\n",
      "1/1 - 0s - loss: 0.0511 - acc: 0.9786 - val_loss: 0.9169 - val_acc: 0.7680\n",
      "Epoch 79/200\n",
      "1/1 - 0s - loss: 0.0159 - acc: 1.0000 - val_loss: 0.9167 - val_acc: 0.7700\n",
      "Epoch 80/200\n",
      "1/1 - 0s - loss: 0.0256 - acc: 1.0000 - val_loss: 0.9159 - val_acc: 0.7700\n",
      "Epoch 81/200\n",
      "1/1 - 0s - loss: 0.0358 - acc: 0.9929 - val_loss: 0.9189 - val_acc: 0.7700\n",
      "Epoch 82/200\n",
      "1/1 - 0s - loss: 0.0349 - acc: 0.9929 - val_loss: 0.9205 - val_acc: 0.7720\n",
      "Epoch 83/200\n",
      "1/1 - 0s - loss: 0.0327 - acc: 0.9929 - val_loss: 0.9185 - val_acc: 0.7760\n",
      "Epoch 84/200\n",
      "1/1 - 0s - loss: 0.0425 - acc: 0.9857 - val_loss: 0.9132 - val_acc: 0.7760\n",
      "Epoch 85/200\n",
      "1/1 - 0s - loss: 0.0742 - acc: 0.9857 - val_loss: 0.9072 - val_acc: 0.7760\n",
      "Epoch 86/200\n",
      "1/1 - 0s - loss: 0.0493 - acc: 0.9857 - val_loss: 0.9022 - val_acc: 0.7760\n",
      "Epoch 87/200\n",
      "1/1 - 0s - loss: 0.0284 - acc: 0.9929 - val_loss: 0.8982 - val_acc: 0.7760\n",
      "Epoch 88/200\n",
      "1/1 - 0s - loss: 0.0412 - acc: 0.9786 - val_loss: 0.8950 - val_acc: 0.7740\n",
      "Epoch 89/200\n",
      "1/1 - 0s - loss: 0.0184 - acc: 1.0000 - val_loss: 0.8919 - val_acc: 0.7760\n",
      "Epoch 90/200\n",
      "1/1 - 0s - loss: 0.0207 - acc: 1.0000 - val_loss: 0.8905 - val_acc: 0.7800\n",
      "Epoch 91/200\n",
      "1/1 - 0s - loss: 0.0311 - acc: 0.9857 - val_loss: 0.8915 - val_acc: 0.7820\n",
      "Epoch 92/200\n",
      "1/1 - 0s - loss: 0.0271 - acc: 1.0000 - val_loss: 0.8944 - val_acc: 0.7840\n",
      "Epoch 93/200\n",
      "1/1 - 0s - loss: 0.0260 - acc: 0.9929 - val_loss: 0.8996 - val_acc: 0.7800\n",
      "Epoch 94/200\n",
      "1/1 - 0s - loss: 0.0226 - acc: 0.9929 - val_loss: 0.9054 - val_acc: 0.7780\n"
     ]
    },
    {
     "name": "stdout",
     "output_type": "stream",
     "text": [
      "Epoch 95/200\n",
      "1/1 - 0s - loss: 0.0240 - acc: 0.9929 - val_loss: 0.9111 - val_acc: 0.7780\n",
      "Epoch 96/200\n",
      "1/1 - 0s - loss: 0.0275 - acc: 1.0000 - val_loss: 0.9167 - val_acc: 0.7760\n",
      "Epoch 97/200\n",
      "1/1 - 0s - loss: 0.0130 - acc: 0.9929 - val_loss: 0.9242 - val_acc: 0.7800\n",
      "Epoch 98/200\n",
      "1/1 - 0s - loss: 0.0225 - acc: 1.0000 - val_loss: 0.9324 - val_acc: 0.7820\n",
      "Epoch 99/200\n",
      "1/1 - 0s - loss: 0.0207 - acc: 0.9929 - val_loss: 0.9405 - val_acc: 0.7820\n",
      "Epoch 100/200\n",
      "1/1 - 0s - loss: 0.0356 - acc: 0.9786 - val_loss: 0.9465 - val_acc: 0.7840\n",
      "Epoch 101/200\n",
      "1/1 - 0s - loss: 0.0281 - acc: 0.9929 - val_loss: 0.9526 - val_acc: 0.7820\n",
      "Epoch 102/200\n",
      "1/1 - 0s - loss: 0.0167 - acc: 1.0000 - val_loss: 0.9590 - val_acc: 0.7780\n",
      "Epoch 103/200\n",
      "1/1 - 0s - loss: 0.0679 - acc: 0.9714 - val_loss: 0.9682 - val_acc: 0.7780\n",
      "Epoch 104/200\n",
      "1/1 - 0s - loss: 0.0207 - acc: 0.9929 - val_loss: 0.9758 - val_acc: 0.7780\n",
      "Epoch 105/200\n",
      "1/1 - 0s - loss: 0.0309 - acc: 0.9929 - val_loss: 0.9815 - val_acc: 0.7700\n",
      "Epoch 106/200\n",
      "1/1 - 0s - loss: 0.0404 - acc: 0.9929 - val_loss: 0.9870 - val_acc: 0.7760\n",
      "Epoch 107/200\n",
      "1/1 - 0s - loss: 0.0135 - acc: 1.0000 - val_loss: 0.9888 - val_acc: 0.7740\n",
      "Epoch 108/200\n",
      "1/1 - 0s - loss: 0.0281 - acc: 0.9857 - val_loss: 0.9900 - val_acc: 0.7740\n",
      "Epoch 109/200\n",
      "1/1 - 0s - loss: 0.0370 - acc: 0.9857 - val_loss: 0.9902 - val_acc: 0.7780\n",
      "Epoch 110/200\n",
      "1/1 - 0s - loss: 0.0306 - acc: 0.9929 - val_loss: 0.9916 - val_acc: 0.7800\n",
      "Epoch 111/200\n",
      "1/1 - 0s - loss: 0.0140 - acc: 1.0000 - val_loss: 0.9913 - val_acc: 0.7780\n",
      "Epoch 112/200\n",
      "1/1 - 0s - loss: 0.0131 - acc: 1.0000 - val_loss: 0.9889 - val_acc: 0.7840\n",
      "Epoch 113/200\n",
      "1/1 - 0s - loss: 0.0263 - acc: 0.9929 - val_loss: 0.9863 - val_acc: 0.7800\n",
      "Epoch 114/200\n",
      "1/1 - 0s - loss: 0.0126 - acc: 1.0000 - val_loss: 0.9850 - val_acc: 0.7820\n",
      "Epoch 115/200\n",
      "1/1 - 0s - loss: 0.0288 - acc: 0.9929 - val_loss: 0.9818 - val_acc: 0.7820\n",
      "Epoch 116/200\n",
      "1/1 - 0s - loss: 0.0075 - acc: 1.0000 - val_loss: 0.9790 - val_acc: 0.7840\n"
     ]
    }
   ],
   "source": [
    "history = model.fit(\n",
    "    train_gen,\n",
    "    epochs=200,\n",
    "    validation_data=val_gen,\n",
    "    verbose=2,\n",
    "    shuffle=False,  # this should be False, since shuffling data means shuffling the whole graph\n",
    "    callbacks=[es_callback],\n",
    ")"
   ]
  },
  {
   "cell_type": "code",
   "execution_count": 18,
   "metadata": {},
   "outputs": [
    {
     "data": {
      "image/png": "[encoded data removed]",
      "text/plain": [
       "<Figure size 504x576 with 2 Axes>"
      ]
     },
     "metadata": {
      "needs_background": "light"
     },
     "output_type": "display_data"
    }
   ],
   "source": [
    "sg.utils.plot_history(history)"
   ]
  },
  {
   "cell_type": "code",
   "execution_count": 19,
   "metadata": {},
   "outputs": [],
   "source": [
    "test_gen = generator.flow(test_subjects.index, test_targets)"
   ]
  },
  {
   "cell_type": "code",
   "execution_count": 20,
   "metadata": {},
   "outputs": [
    {
     "name": "stdout",
     "output_type": "stream",
     "text": [
      "1/1 [==============================] - 0s 0s/step - loss: 0.8545 - acc: 0.7877\n",
      "\n",
      "Test Set Metrics:\n",
      "\tloss: 0.8545\n",
      "\tacc: 0.7877\n"
     ]
    }
   ],
   "source": [
    "\n",
    "test_metrics = model.evaluate(test_gen)\n",
    "print(\"\\nTest Set Metrics:\")\n",
    "for name, val in zip(model.metrics_names, test_metrics):\n",
    "    print(\"\\t{}: {:0.4f}\".format(name, val))\n",
    "\n"
   ]
  },
  {
   "cell_type": "code",
   "execution_count": 21,
   "metadata": {},
   "outputs": [],
   "source": [
    "all_nodes = node_subjects.index\n",
    "all_gen = generator.flow(all_nodes)\n",
    "all_predictions = model.predict(all_gen)"
   ]
  },
  {
   "cell_type": "code",
   "execution_count": 28,
   "metadata": {},
   "outputs": [
    {
     "name": "stdout",
     "output_type": "stream",
     "text": [
      "<class 'pandas.core.series.Series'>\n"
     ]
    },
    {
     "data": {
      "text/plain": [
       "31336             Neural_Networks\n",
       "1061127             Rule_Learning\n",
       "1106406    Reinforcement_Learning\n",
       "13195      Reinforcement_Learning\n",
       "37879       Probabilistic_Methods\n",
       "                    ...          \n",
       "1128975        Genetic_Algorithms\n",
       "1128977        Genetic_Algorithms\n",
       "1128978        Genetic_Algorithms\n",
       "117328                 Case_Based\n",
       "24043             Neural_Networks\n",
       "Name: subject, Length: 2708, dtype: object"
      ]
     },
     "execution_count": 28,
     "metadata": {},
     "output_type": "execute_result"
    }
   ],
   "source": [
    "print(type(node_subjects))\n",
    "node_subjects"
   ]
  },
  {
   "cell_type": "code",
   "execution_count": 30,
   "metadata": {},
   "outputs": [
    {
     "name": "stdout",
     "output_type": "stream",
     "text": [
      "['Probabilistic_Methods' 'Theory' 'Reinforcement_Learning' ...\n",
      " 'Genetic_Algorithms' 'Case_Based' 'Neural_Networks']\n"
     ]
    }
   ],
   "source": [
    "node_predictions = target_encoding.inverse_transform(all_predictions.squeeze())\n",
    "\n",
    "print(node_predictions)"
   ]
  },
  {
   "cell_type": "code",
   "execution_count": 24,
   "metadata": {},
   "outputs": [
    {
     "data": {
      "text/html": [
       "<div>\n",
       "<style scoped>\n",
       "    .dataframe tbody tr th:only-of-type {\n",
       "        vertical-align: middle;\n",
       "    }\n",
       "\n",
       "    .dataframe tbody tr th {\n",
       "        vertical-align: top;\n",
       "    }\n",
       "\n",
       "    .dataframe thead th {\n",
       "        text-align: right;\n",
       "    }\n",
       "</style>\n",
       "<table border=\"1\" class=\"dataframe\">\n",
       "  <thead>\n",
       "    <tr style=\"text-align: right;\">\n",
       "      <th></th>\n",
       "      <th>Predicted</th>\n",
       "      <th>True</th>\n",
       "    </tr>\n",
       "  </thead>\n",
       "  <tbody>\n",
       "    <tr>\n",
       "      <td>31336</td>\n",
       "      <td>Probabilistic_Methods</td>\n",
       "      <td>Neural_Networks</td>\n",
       "    </tr>\n",
       "    <tr>\n",
       "      <td>1061127</td>\n",
       "      <td>Theory</td>\n",
       "      <td>Rule_Learning</td>\n",
       "    </tr>\n",
       "    <tr>\n",
       "      <td>1106406</td>\n",
       "      <td>Reinforcement_Learning</td>\n",
       "      <td>Reinforcement_Learning</td>\n",
       "    </tr>\n",
       "    <tr>\n",
       "      <td>13195</td>\n",
       "      <td>Reinforcement_Learning</td>\n",
       "      <td>Reinforcement_Learning</td>\n",
       "    </tr>\n",
       "    <tr>\n",
       "      <td>37879</td>\n",
       "      <td>Probabilistic_Methods</td>\n",
       "      <td>Probabilistic_Methods</td>\n",
       "    </tr>\n",
       "    <tr>\n",
       "      <td>1126012</td>\n",
       "      <td>Probabilistic_Methods</td>\n",
       "      <td>Probabilistic_Methods</td>\n",
       "    </tr>\n",
       "    <tr>\n",
       "      <td>1107140</td>\n",
       "      <td>Theory</td>\n",
       "      <td>Theory</td>\n",
       "    </tr>\n",
       "    <tr>\n",
       "      <td>1102850</td>\n",
       "      <td>Theory</td>\n",
       "      <td>Neural_Networks</td>\n",
       "    </tr>\n",
       "    <tr>\n",
       "      <td>31349</td>\n",
       "      <td>Theory</td>\n",
       "      <td>Neural_Networks</td>\n",
       "    </tr>\n",
       "    <tr>\n",
       "      <td>1106418</td>\n",
       "      <td>Theory</td>\n",
       "      <td>Theory</td>\n",
       "    </tr>\n",
       "    <tr>\n",
       "      <td>1123188</td>\n",
       "      <td>Neural_Networks</td>\n",
       "      <td>Neural_Networks</td>\n",
       "    </tr>\n",
       "    <tr>\n",
       "      <td>1128990</td>\n",
       "      <td>Genetic_Algorithms</td>\n",
       "      <td>Genetic_Algorithms</td>\n",
       "    </tr>\n",
       "    <tr>\n",
       "      <td>109323</td>\n",
       "      <td>Probabilistic_Methods</td>\n",
       "      <td>Probabilistic_Methods</td>\n",
       "    </tr>\n",
       "    <tr>\n",
       "      <td>217139</td>\n",
       "      <td>Case_Based</td>\n",
       "      <td>Case_Based</td>\n",
       "    </tr>\n",
       "    <tr>\n",
       "      <td>31353</td>\n",
       "      <td>Theory</td>\n",
       "      <td>Neural_Networks</td>\n",
       "    </tr>\n",
       "    <tr>\n",
       "      <td>32083</td>\n",
       "      <td>Neural_Networks</td>\n",
       "      <td>Neural_Networks</td>\n",
       "    </tr>\n",
       "    <tr>\n",
       "      <td>1126029</td>\n",
       "      <td>Reinforcement_Learning</td>\n",
       "      <td>Reinforcement_Learning</td>\n",
       "    </tr>\n",
       "    <tr>\n",
       "      <td>1118017</td>\n",
       "      <td>Neural_Networks</td>\n",
       "      <td>Neural_Networks</td>\n",
       "    </tr>\n",
       "    <tr>\n",
       "      <td>49482</td>\n",
       "      <td>Neural_Networks</td>\n",
       "      <td>Neural_Networks</td>\n",
       "    </tr>\n",
       "    <tr>\n",
       "      <td>753265</td>\n",
       "      <td>Neural_Networks</td>\n",
       "      <td>Neural_Networks</td>\n",
       "    </tr>\n",
       "  </tbody>\n",
       "</table>\n",
       "</div>"
      ],
      "text/plain": [
       "                      Predicted                    True\n",
       "31336     Probabilistic_Methods         Neural_Networks\n",
       "1061127                  Theory           Rule_Learning\n",
       "1106406  Reinforcement_Learning  Reinforcement_Learning\n",
       "13195    Reinforcement_Learning  Reinforcement_Learning\n",
       "37879     Probabilistic_Methods   Probabilistic_Methods\n",
       "1126012   Probabilistic_Methods   Probabilistic_Methods\n",
       "1107140                  Theory                  Theory\n",
       "1102850                  Theory         Neural_Networks\n",
       "31349                    Theory         Neural_Networks\n",
       "1106418                  Theory                  Theory\n",
       "1123188         Neural_Networks         Neural_Networks\n",
       "1128990      Genetic_Algorithms      Genetic_Algorithms\n",
       "109323    Probabilistic_Methods   Probabilistic_Methods\n",
       "217139               Case_Based              Case_Based\n",
       "31353                    Theory         Neural_Networks\n",
       "32083           Neural_Networks         Neural_Networks\n",
       "1126029  Reinforcement_Learning  Reinforcement_Learning\n",
       "1118017         Neural_Networks         Neural_Networks\n",
       "49482           Neural_Networks         Neural_Networks\n",
       "753265          Neural_Networks         Neural_Networks"
      ]
     },
     "execution_count": 24,
     "metadata": {},
     "output_type": "execute_result"
    }
   ],
   "source": [
    "\n",
    "df = pd.DataFrame({\"Predicted\": node_predictions, \"True\": node_subjects})\n",
    "df.head(20)"
   ]
  },
  {
   "cell_type": "code",
   "execution_count": null,
   "metadata": {},
   "outputs": [],
   "source": []
  }
 ],
 "metadata": {
  "kernelspec": {
   "display_name": "Python 3",
   "language": "python",
   "name": "python3"
  },
  "language_info": {
   "codemirror_mode": {
    "name": "ipython",
    "version": 3
   },
   "file_extension": ".py",
   "mimetype": "text/x-python",
   "name": "python",
   "nbconvert_exporter": "python",
   "pygments_lexer": "ipython3",
   "version": "3.7.4"
  },
  "varInspector": {
   "cols": {
    "lenName": 16,
    "lenType": 16,
    "lenVar": 40
   },
   "kernels_config": {
    "python": {
     "delete_cmd_postfix": "",
     "delete_cmd_prefix": "del ",
     "library": "var_list.py",
     "varRefreshCmd": "print(var_dic_list())"
    },
    "r": {
     "delete_cmd_postfix": ") ",
     "delete_cmd_prefix": "rm(",
     "library": "var_list.r",
     "varRefreshCmd": "cat(var_dic_list()) "
    }
   },
   "types_to_exclude": [
    "module",
    "function",
    "builtin_function_or_method",
    "instance",
    "_Feature"
   ],
   "window_display": false
  }
 },
 "nbformat": 4,
 "nbformat_minor": 2
}
