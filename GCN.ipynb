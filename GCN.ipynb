{
 "cells": [
  {
   "cell_type": "markdown",
   "metadata": {},
   "source": [
    "### Exploring GCN's for node prediction in a music playlist.  Predicting if an artist is part of playlist.  \n",
    "\n",
    "Given 10 random artists from the 'rock classics' playlist and individual graphs of size 400, can node classification methods outperform PageRank with respect to predicting/labeling artists in the graph that are also in the original playlist.  Given the same parameters, ranking artists by PageRank will correctly label anywhere from ~35% to ~40% of artists in this playlist (see 'Exploring Weighted Edges'.)\n"
   ]
  },
  {
   "cell_type": "code",
   "execution_count": 1,
   "metadata": {},
   "outputs": [],
   "source": [
    "import music_graph as mg    # contains all necessary functions, data and dependencies\n",
    "\n",
    "from music_graph import artist_dictionary\n",
    "from music_graph import tags_dictionary\n",
    "from music_graph import filtered_tags_dictionary\n",
    "from music_graph import ratings\n",
    "from music_graph import build_net\n",
    "from music_graph import layer_graphs\n",
    "from music_graph import new_centrality\n",
    "from music_graph import spotify_rankings\n",
    "from music_graph import add_tag_edges\n",
    "\n",
    "from datetime import datetime\n",
    "import networkx as nx\n",
    "import configparser\n",
    "import spotipy\n",
    "from spotipy.oauth2 import SpotifyClientCredentials\n",
    "import pandas as pd\n",
    "import numpy as np\n",
    "from matplotlib import pyplot as plt\n",
    "import seaborn as sns\n",
    "from sklearn import model_selection\n",
    "\n",
    "import tensorflow as tf\n",
    "\n",
    "from stellargraph import StellarGraph as sg\n",
    "from tensorflow import keras\n",
    "from stellargraph.layer import RGCN\n",
    "from tensorflow.keras.layers import Dense\n",
    "from tensorflow.keras.models import Model\n",
    "from stellargraph.mapper import RelationalFullBatchNodeGenerator\n",
    "# Spotify client id & secret for API access\n",
    "\n",
    "config = configparser.ConfigParser()\n",
    "config.read('spotify.ini')\n",
    "\n",
    "client_id = config['spotify']['client_id']\n",
    "client_secret = config['spotify']['client_secret']"
   ]
  },
  {
   "cell_type": "code",
   "execution_count": 2,
   "metadata": {},
   "outputs": [
    {
     "name": "stdout",
     "output_type": "stream",
     "text": [
      "81  unique artists\n",
      "150  total artists\n"
     ]
    }
   ],
   "source": [
    "playlists = {\n",
    "'4C9mWYjVobPsfFXesGxYNf':'all classic hits', ### $$$\n",
    "#'5TF1ki4BzMFfotw57juFTY':'coffee shop mix',\n",
    "'3pM6OEFeTo4L1yd4eRltjL':'2004 hits', ### $$$\n",
    "'73gFKr9Moh1T3jXM8TVSdC':'80s summer mix',\n",
    "'17xTDziQjqAZANvg6C6FlX':'songs from your old ipod',\n",
    "'6j3URIMhpf62LXpDcbi98b':'rap playlists',\n",
    "#'1DcX9eK1MaPlwwBIsEfnBX':'country playlist to end all playlists',\n",
    "#'5VhEpH7stoZiX4v8gIb77P':'playlists',\n",
    "'37i9dQZF1DWXRqgorJj26U':'rock classics', ### $$$\n",
    "'37i9dQZF1DWWJOmJ7nRx0C':'rock hard',  ### $$$\n",
    "'37i9dQZF1DWWRktbhJiuqL':'pure rock n roll', ### $$$\n",
    "'37i9dQZF1DX5W4wuxak2hE':'power pop', ###\n",
    "'7Jfcy1H82lsTIzhpL4MZXu':'punk playlist', ### $$$\n",
    "'07jaITMGGL6QYmT8yZVxQt':'metal playlist'\n",
    "}  \n",
    "\n",
    "\"\"\"\n",
    "Request tracks from a playlist in Spotify\n",
    "Then pull artist out of the track container.\n",
    "\"\"\"\n",
    "url = 'https://open.spotify.com/playlist'\n",
    "sp = spotipy.Spotify(client_credentials_manager=SpotifyClientCredentials(client_id, client_secret))\n",
    "\n",
    "playlistid = '37i9dQZF1DWXRqgorJj26U'\n",
    "playlist_name = playlists[playlistid]\n",
    "\n",
    "# playlists with more than 100 artists will require two requests\n",
    "playlist1 = sp.playlist_tracks(playlistid, offset = 0, limit = 100) # get the first 100 tracks\n",
    "playlist2 = sp.playlist_tracks(playlistid, offset = 100, limit = 100) # get the next 100 tracks\n",
    "\n",
    "artists = []\n",
    "\n",
    "for index, item in enumerate(playlist1['items']):\n",
    "    artists.append(item['track']['album']['artists'][0]['name'])\n",
    "    \n",
    "for index, item in enumerate(playlist2['items']):\n",
    "    artists.append(item['track']['album']['artists'][0]['name'])\n",
    "    \n",
    "artists = [i.lower() for i in artists]\n",
    "\n",
    "num_artists = len(set(artists))      # number of unique artists in the playlist\n",
    "\n",
    "print(len(set(artists)), ' unique artists')\n",
    "print(len((artists)), ' total artists') "
   ]
  },
  {
   "cell_type": "code",
   "execution_count": 3,
   "metadata": {},
   "outputs": [
    {
     "name": "stdout",
     "output_type": "stream",
     "text": [
      "multigraph iteration: \n",
      "['ted nugent', 'led zeppelin', 'mötley crüe', 'stevie nicks', 'journey', 'ac/dc', 'david bowie', 'the rolling stones', 'talking heads', \"guns n' roses\"]\n",
      "2020-06-21 15:48:36.258618\n",
      "guns n' roses  not in artist_dictionary\n",
      "('ted nugent', 'the amboy dukes', {'kind': 'Artist', 'link': 'rob grange', 'weight': 0.008995740370545664})\n"
     ]
    }
   ],
   "source": [
    "rand_artist_count = 0\n",
    "rand_artists = []\n",
    "while rand_artist_count < 10:                  # number of random artists\n",
    "    rand = np.random.randint(0,num_artists,1)\n",
    "    rand = rand[0]\n",
    "    if artists[rand] not in rand_artists: #and artists[rand] not in ['mumford & sons','bløf','lil jon & the east side boyz']:\n",
    "        rand_artists.append(artists[rand].lower())\n",
    "        rand_artist_count +=1\n",
    "\n",
    "print(\"multigraph iteration: \")\n",
    "print(rand_artists)\n",
    "print(datetime.now())\n",
    "multigraph = layer_graphs(rand_artists, add_tags = True, size = 100) # node count of each graph\n",
    "\n",
    "print(list(multigraph.edges.data())[1])  # print an edge w/ data to make sure edge weight is correct.\n"
   ]
  },
  {
   "cell_type": "code",
   "execution_count": 4,
   "metadata": {},
   "outputs": [
    {
     "name": "stdout",
     "output_type": "stream",
     "text": [
      "743\n",
      "135712\n"
     ]
    }
   ],
   "source": [
    "print(len(multigraph.nodes()))\n",
    "print(len(multigraph.edges.data()))"
   ]
  },
  {
   "cell_type": "code",
   "execution_count": 5,
   "metadata": {},
   "outputs": [],
   "source": [
    "# Stellargraph's implementation of GCN wants to see attributes for each node in the graph.\n",
    "# several graph metrics will be calculated and used as node features.\n",
    "\n",
    "scores = new_centrality(multigraph)"
   ]
  },
  {
   "cell_type": "code",
   "execution_count": 6,
   "metadata": {},
   "outputs": [
    {
     "data": {
      "text/html": [
       "<div>\n",
       "<style scoped>\n",
       "    .dataframe tbody tr th:only-of-type {\n",
       "        vertical-align: middle;\n",
       "    }\n",
       "\n",
       "    .dataframe tbody tr th {\n",
       "        vertical-align: top;\n",
       "    }\n",
       "\n",
       "    .dataframe thead th {\n",
       "        text-align: right;\n",
       "    }\n",
       "</style>\n",
       "<table border=\"1\" class=\"dataframe\">\n",
       "  <thead>\n",
       "    <tr style=\"text-align: right;\">\n",
       "      <th></th>\n",
       "      <th>artist</th>\n",
       "      <th>deg_cent</th>\n",
       "      <th>load_cent</th>\n",
       "      <th>page_rank</th>\n",
       "      <th>ev_cent</th>\n",
       "      <th>close_cent</th>\n",
       "      <th>cf_close_cent</th>\n",
       "      <th>harm_cent</th>\n",
       "      <th>mean_cent</th>\n",
       "    </tr>\n",
       "  </thead>\n",
       "  <tbody>\n",
       "    <tr>\n",
       "      <td>0</td>\n",
       "      <td>ted nugent</td>\n",
       "      <td>2.696765</td>\n",
       "      <td>0.015508</td>\n",
       "      <td>0.006697</td>\n",
       "      <td>0.094492</td>\n",
       "      <td>0.595028</td>\n",
       "      <td>0.018222</td>\n",
       "      <td>501.166667</td>\n",
       "      <td>72.084768</td>\n",
       "    </tr>\n",
       "    <tr>\n",
       "      <td>1</td>\n",
       "      <td>the amboy dukes</td>\n",
       "      <td>1.402965</td>\n",
       "      <td>0.006179</td>\n",
       "      <td>0.003382</td>\n",
       "      <td>0.052868</td>\n",
       "      <td>0.531519</td>\n",
       "      <td>0.018109</td>\n",
       "      <td>441.333333</td>\n",
       "      <td>63.335479</td>\n",
       "    </tr>\n",
       "    <tr>\n",
       "      <td>2</td>\n",
       "      <td>thin lizzy</td>\n",
       "      <td>2.525606</td>\n",
       "      <td>0.026881</td>\n",
       "      <td>0.007091</td>\n",
       "      <td>0.091698</td>\n",
       "      <td>0.593125</td>\n",
       "      <td>0.018215</td>\n",
       "      <td>499.833333</td>\n",
       "      <td>71.870850</td>\n",
       "    </tr>\n",
       "    <tr>\n",
       "      <td>3</td>\n",
       "      <td>black star riders</td>\n",
       "      <td>0.386792</td>\n",
       "      <td>0.002912</td>\n",
       "      <td>0.000925</td>\n",
       "      <td>0.013290</td>\n",
       "      <td>0.521800</td>\n",
       "      <td>0.017511</td>\n",
       "      <td>430.333333</td>\n",
       "      <td>61.610938</td>\n",
       "    </tr>\n",
       "    <tr>\n",
       "      <td>4</td>\n",
       "      <td>ozzy osbourne</td>\n",
       "      <td>3.458221</td>\n",
       "      <td>0.014590</td>\n",
       "      <td>0.010884</td>\n",
       "      <td>0.124839</td>\n",
       "      <td>0.599838</td>\n",
       "      <td>0.018249</td>\n",
       "      <td>504.500000</td>\n",
       "      <td>72.675232</td>\n",
       "    </tr>\n",
       "  </tbody>\n",
       "</table>\n",
       "</div>"
      ],
      "text/plain": [
       "              artist  deg_cent  load_cent  page_rank   ev_cent  close_cent  \\\n",
       "0         ted nugent  2.696765   0.015508   0.006697  0.094492    0.595028   \n",
       "1    the amboy dukes  1.402965   0.006179   0.003382  0.052868    0.531519   \n",
       "2         thin lizzy  2.525606   0.026881   0.007091  0.091698    0.593125   \n",
       "3  black star riders  0.386792   0.002912   0.000925  0.013290    0.521800   \n",
       "4      ozzy osbourne  3.458221   0.014590   0.010884  0.124839    0.599838   \n",
       "\n",
       "   cf_close_cent   harm_cent  mean_cent  \n",
       "0       0.018222  501.166667  72.084768  \n",
       "1       0.018109  441.333333  63.335479  \n",
       "2       0.018215  499.833333  71.870850  \n",
       "3       0.017511  430.333333  61.610938  \n",
       "4       0.018249  504.500000  72.675232  "
      ]
     },
     "execution_count": 6,
     "metadata": {},
     "output_type": "execute_result"
    }
   ],
   "source": [
    "scores_ = scores  # maintain oroginal scores DF\n",
    "\n",
    "scores_.head()"
   ]
  },
  {
   "cell_type": "code",
   "execution_count": 7,
   "metadata": {},
   "outputs": [],
   "source": [
    "scores_ = scores_.set_index('artist')"
   ]
  },
  {
   "cell_type": "code",
   "execution_count": 8,
   "metadata": {},
   "outputs": [
    {
     "data": {
      "text/plain": [
       "[3.743935309973046,\n",
       " 0.018499085685456634,\n",
       " 0.01056474351444009,\n",
       " 0.13822143683731125,\n",
       " 0.6037428803905615,\n",
       " 0.018257334637989436,\n",
       " 506.83333333333286,\n",
       " 73.05236487491024]"
      ]
     },
     "execution_count": 8,
     "metadata": {},
     "output_type": "execute_result"
    }
   ],
   "source": [
    "# convert to a dictionary of dictionaries to be assigned as node attributes by networkx.\n",
    "#node_scores = scores_.to_dict('index')\n",
    "#node_scores['the sonics']\n",
    "\n",
    "# convert DF to a dictionary of key:list(values)\n",
    "\n",
    "node_scores = {}\n",
    "for i in scores_.index:\n",
    "    node_scores[i] = list(scores_.loc[i])\n",
    "    \n",
    "node_scores['led zeppelin']"
   ]
  },
  {
   "cell_type": "code",
   "execution_count": 9,
   "metadata": {},
   "outputs": [
    {
     "name": "stdout",
     "output_type": "stream",
     "text": [
      "2456\n",
      "862193\n"
     ]
    }
   ],
   "source": [
    "multigraph_ = multigraph.copy()\n",
    "multigraph_\n",
    "print(len(multigraph_.nodes()))\n",
    "print(len(multigraph_.edges.data()))"
   ]
  },
  {
   "cell_type": "code",
   "execution_count": 10,
   "metadata": {},
   "outputs": [
    {
     "name": "stdout",
     "output_type": "stream",
     "text": [
      "{'features': [1.4024439918533604, 0.014546490077776643, 0.002011960796505514, 0.042233217176769526, 0.5615279048490394, 0.0064215797252844785, 1556.166666666653, 222.59940740159027]}\n",
      "deg_cent            1.402444\n",
      "load_cent           0.014546\n",
      "page_rank           0.002012\n",
      "ev_cent             0.042233\n",
      "close_cent          0.561528\n",
      "cf_close_cent       0.006422\n",
      "harm_cent        1556.166667\n",
      "mean_cent         222.599407\n",
      "Name: the firm, dtype: float64\n"
     ]
    }
   ],
   "source": [
    "# assign scores tyo each \n",
    "nx.set_node_attributes(multigraph_, node_scores, 'features')\n",
    "\n",
    "\n",
    "# check that they match\n",
    "print(multigraph_.nodes['the firm'])\n",
    "\n",
    "print(scores_.loc['the firm'])"
   ]
  },
  {
   "cell_type": "code",
   "execution_count": null,
   "metadata": {},
   "outputs": [],
   "source": [
    "multigraph_.nodes.data()"
   ]
  },
  {
   "cell_type": "code",
   "execution_count": 11,
   "metadata": {},
   "outputs": [
    {
     "name": "stdout",
     "output_type": "stream",
     "text": [
      "StellarGraph: Undirected multigraph\n",
      " Nodes: 2456, Edges: 862193\n",
      "\n",
      " Node types:\n",
      "  default: [2456]\n",
      "    Features: float32 vector, length 8\n",
      "    Edge types: default-Artist->default, default-User-Tag->default\n",
      "\n",
      " Edge types:\n",
      "    default-User-Tag->default: [798562]\n",
      "        Weights: all 0.05\n",
      "        Features: none\n",
      "    default-Artist->default: [63631]\n",
      "        Weights: range=[6.3786e-07, 0.731488], mean=0.015429, std=0.0420871\n",
      "        Features: none\n"
     ]
    }
   ],
   "source": [
    "\"\"\"stellargraph from networkx graph\n",
    "The networkx graph is a heterogeneous (has both artist and user-tag type edges) and undirected multigraph.\n",
    "Node attributes consist of various graph metrics, although the user-tag edges added to the graph via the layer_graph \n",
    "function probably could/should be node attributes instead of edges.\"\"\"\n",
    "\n",
    "graph = sg.from_networkx(multigraph_,\n",
    "                         node_features = 'features',\n",
    "                         edge_type_attr = 'kind')\n",
    "\n",
    "print(graph.info())\n"
   ]
  },
  {
   "cell_type": "code",
   "execution_count": 12,
   "metadata": {},
   "outputs": [
    {
     "data": {
      "text/plain": [
       "array([[1., 0., 0., ..., 0., 0., 0.],\n",
       "       [0., 1., 0., ..., 0., 0., 0.],\n",
       "       [0., 0., 1., ..., 0., 0., 0.],\n",
       "       ...,\n",
       "       [0., 0., 0., ..., 1., 0., 0.],\n",
       "       [0., 0., 0., ..., 0., 1., 0.],\n",
       "       [0., 0., 0., ..., 0., 0., 1.]])"
      ]
     },
     "execution_count": 12,
     "metadata": {},
     "output_type": "execute_result"
    }
   ],
   "source": [
    "# identity matrix for multigraph\n",
    "\n",
    "id_mtx = np.identity(n = len(multigraph_.nodes()))\n",
    "\n",
    "id_mtx"
   ]
  },
  {
   "cell_type": "code",
   "execution_count": 13,
   "metadata": {},
   "outputs": [],
   "source": [
    "# labels for node classification.  will have just 10 labeled nodes and |V | - 10 unlabeled nodes.\n",
    "labels = pd.DataFrame()\n",
    "labels['artist'] = list(multigraph.nodes())\n",
    "labels['in_playlist'] = np.nan\n",
    "\n",
    "for i in np.arange(0,len(labels)):\n",
    "    if labels['artist'][i] in  artists:\n",
    "        labels['in_playlist'][i] = 1\n",
    "    else:\n",
    "        labels['in_playlist'][i] = 0"
   ]
  },
  {
   "cell_type": "code",
   "execution_count": 14,
   "metadata": {},
   "outputs": [
    {
     "name": "stdout",
     "output_type": "stream",
     "text": [
      "                            artist  in_playlist\n",
      "0                           kansas          1.0\n",
      "2                      deep purple          1.0\n",
      "46                      whitesnake          1.0\n",
      "64                   black sabbath          1.0\n",
      "124                  ozzy osbourne          1.0\n",
      "246                     quiet riot          1.0\n",
      "268               blue öyster cult          1.0\n",
      "284                     ted nugent          1.0\n",
      "301                        journey          1.0\n",
      "355                      van halen          1.0\n",
      "472             the rolling stones          1.0\n",
      "486                     pink floyd          1.0\n",
      "489                          queen          1.0\n",
      "523                    bad company          1.0\n",
      "524                           free          1.0\n",
      "531                           rush          1.0\n",
      "584                         eagles          1.0\n",
      "585                  the guess who          1.0\n",
      "600                  fleetwood mac          1.0\n",
      "624                          ac/dc          1.0\n",
      "640                          heart          1.0\n",
      "667                   led zeppelin          1.0\n",
      "791                    cheap trick          1.0\n",
      "811                the moody blues          1.0\n",
      "814                    mötley crüe          1.0\n",
      "878                      aerosmith          1.0\n",
      "966                        the who          1.0\n",
      "968                    the beatles          1.0\n",
      "1011                         cream          1.0\n",
      "1043                    supertramp          1.0\n",
      "1135                    billy idol          1.0\n",
      "1336                     the kinks          1.0\n",
      "1344      the allman brothers band          1.0\n",
      "1447                       america          1.0\n",
      "1582                            u2          1.0\n",
      "1612           derek & the dominos          1.0\n",
      "1613           the doobie brothers          1.0\n",
      "1637                    the police          1.0\n",
      "2345                  john fogerty          1.0\n",
      "2347  creedence clearwater revival          1.0\n"
     ]
    },
    {
     "data": {
      "text/html": [
       "<div>\n",
       "<style scoped>\n",
       "    .dataframe tbody tr th:only-of-type {\n",
       "        vertical-align: middle;\n",
       "    }\n",
       "\n",
       "    .dataframe tbody tr th {\n",
       "        vertical-align: top;\n",
       "    }\n",
       "\n",
       "    .dataframe thead th {\n",
       "        text-align: right;\n",
       "    }\n",
       "</style>\n",
       "<table border=\"1\" class=\"dataframe\">\n",
       "  <thead>\n",
       "    <tr style=\"text-align: right;\">\n",
       "      <th></th>\n",
       "      <th>in_playlist</th>\n",
       "    </tr>\n",
       "    <tr>\n",
       "      <th>artist</th>\n",
       "      <th></th>\n",
       "    </tr>\n",
       "  </thead>\n",
       "  <tbody>\n",
       "    <tr>\n",
       "      <td>kansas</td>\n",
       "      <td>1.0</td>\n",
       "    </tr>\n",
       "    <tr>\n",
       "      <td>flying colors</td>\n",
       "      <td>0.0</td>\n",
       "    </tr>\n",
       "    <tr>\n",
       "      <td>deep purple</td>\n",
       "      <td>1.0</td>\n",
       "    </tr>\n",
       "    <tr>\n",
       "      <td>steve morse band</td>\n",
       "      <td>0.0</td>\n",
       "    </tr>\n",
       "    <tr>\n",
       "      <td>dixie dregs</td>\n",
       "      <td>0.0</td>\n",
       "    </tr>\n",
       "    <tr>\n",
       "      <td>living loud</td>\n",
       "      <td>0.0</td>\n",
       "    </tr>\n",
       "    <tr>\n",
       "      <td>angelfire</td>\n",
       "      <td>0.0</td>\n",
       "    </tr>\n",
       "    <tr>\n",
       "      <td>shooting star</td>\n",
       "      <td>0.0</td>\n",
       "    </tr>\n",
       "    <tr>\n",
       "      <td>sun ra arkestra</td>\n",
       "      <td>0.0</td>\n",
       "    </tr>\n",
       "    <tr>\n",
       "      <td>loft</td>\n",
       "      <td>0.0</td>\n",
       "    </tr>\n",
       "    <tr>\n",
       "      <td>ward</td>\n",
       "      <td>0.0</td>\n",
       "    </tr>\n",
       "    <tr>\n",
       "      <td>the passions</td>\n",
       "      <td>0.0</td>\n",
       "    </tr>\n",
       "    <tr>\n",
       "      <td>absent kid</td>\n",
       "      <td>0.0</td>\n",
       "    </tr>\n",
       "    <tr>\n",
       "      <td>courtney williams</td>\n",
       "      <td>0.0</td>\n",
       "    </tr>\n",
       "    <tr>\n",
       "      <td>eddie \"lockjaw\" davis big band</td>\n",
       "      <td>0.0</td>\n",
       "    </tr>\n",
       "    <tr>\n",
       "      <td>richard williams, lillie williams, &amp; ella mae wilson</td>\n",
       "      <td>0.0</td>\n",
       "    </tr>\n",
       "    <tr>\n",
       "      <td>moonstone project</td>\n",
       "      <td>0.0</td>\n",
       "    </tr>\n",
       "    <tr>\n",
       "      <td>streets</td>\n",
       "      <td>0.0</td>\n",
       "    </tr>\n",
       "    <tr>\n",
       "      <td>ad</td>\n",
       "      <td>0.0</td>\n",
       "    </tr>\n",
       "    <tr>\n",
       "      <td>proto-kaw</td>\n",
       "      <td>0.0</td>\n",
       "    </tr>\n",
       "  </tbody>\n",
       "</table>\n",
       "</div>"
      ],
      "text/plain": [
       "                                                    in_playlist\n",
       "artist                                                         \n",
       "kansas                                                      1.0\n",
       "flying colors                                               0.0\n",
       "deep purple                                                 1.0\n",
       "steve morse band                                            0.0\n",
       "dixie dregs                                                 0.0\n",
       "living loud                                                 0.0\n",
       "angelfire                                                   0.0\n",
       "shooting star                                               0.0\n",
       "sun ra arkestra                                             0.0\n",
       "loft                                                        0.0\n",
       "ward                                                        0.0\n",
       "the passions                                                0.0\n",
       "absent kid                                                  0.0\n",
       "courtney williams                                           0.0\n",
       "eddie \"lockjaw\" davis big band                              0.0\n",
       "richard williams, lillie williams, & ella mae w...          0.0\n",
       "moonstone project                                           0.0\n",
       "streets                                                     0.0\n",
       "ad                                                          0.0\n",
       "proto-kaw                                                   0.0"
      ]
     },
     "execution_count": 14,
     "metadata": {},
     "output_type": "execute_result"
    }
   ],
   "source": [
    "# check that randomly selected artists are correctly labeled\n",
    "print(labels[labels['in_playlist'] == 1])\n",
    "\n",
    "labels = labels.set_index('artist') \n",
    "labels.head(n = 20)"
   ]
  },
  {
   "cell_type": "code",
   "execution_count": 15,
   "metadata": {},
   "outputs": [
    {
     "name": "stdout",
     "output_type": "stream",
     "text": [
      "<class 'pandas.core.frame.DataFrame'>\n",
      "<class 'pandas.core.frame.DataFrame'>\n"
     ]
    }
   ],
   "source": [
    "train_targets, test_targets = model_selection.train_test_split(\n",
    "    labels, train_size=0.8, test_size=None\n",
    ")\n",
    "\n",
    "print(type(train_targets))\n",
    "print(type(test_targets))"
   ]
  },
  {
   "cell_type": "code",
   "execution_count": 16,
   "metadata": {},
   "outputs": [
    {
     "name": "stdout",
     "output_type": "stream",
     "text": [
      "<class 'stellargraph.mapper.sequences.RelationalFullBatchNodeSequence'>\n",
      "<class 'stellargraph.mapper.sequences.RelationalFullBatchNodeSequence'>\n"
     ]
    }
   ],
   "source": [
    "tf.compat.v1.disable_eager_execution() # needed to fix conversion error, but why?\n",
    "\n",
    "\n",
    "\n",
    "generator = RelationalFullBatchNodeGenerator(graph, sparse=True)\n",
    "\n",
    "train_gen = generator.flow(train_targets.index, targets=train_targets)\n",
    "test_gen = generator.flow(test_targets.index, targets=test_targets)\n",
    "\n",
    "print(type(train_gen))\n",
    "print(type(test_gen))"
   ]
  },
  {
   "cell_type": "code",
   "execution_count": 17,
   "metadata": {},
   "outputs": [],
   "source": [
    "rgcn = RGCN(\n",
    "    layer_sizes=[32, 32],\n",
    "    activations=[\"relu\", \"relu\"],\n",
    "    generator=generator,\n",
    "    bias=True,\n",
    "    num_bases=20,\n",
    "    dropout=0.5,\n",
    ")"
   ]
  },
  {
   "cell_type": "code",
   "execution_count": 19,
   "metadata": {},
   "outputs": [
    {
     "name": "stdout",
     "output_type": "stream",
     "text": [
      "<class 'list'>\n",
      "<class 'tensorflow.python.framework.ops.Tensor'>\n"
     ]
    }
   ],
   "source": [
    "x_in, x_out = rgcn.in_out_tensors()\n",
    "#x_in = np.asarray(x_in)\n",
    "predictions = Dense(2, activation=\"relu\")(x_out)\n",
    "model = Model(inputs=x_in, outputs=predictions)\n",
    "model.compile(\n",
    "    loss=\"sparse_categorical_crossentropy\",\n",
    "    optimizer=keras.optimizers.Adam(0.01),\n",
    "    metrics=[\"acc\"],\n",
    ")\n",
    "\n",
    "\n",
    "print(type(x_in))\n",
    "print(type(x_out))"
   ]
  },
  {
   "cell_type": "code",
   "execution_count": 20,
   "metadata": {},
   "outputs": [
    {
     "name": "stdout",
     "output_type": "stream",
     "text": [
      "Epoch 1/20\n",
      "1/1 [==============================] - 0s 232ms/step - loss: 1.9102 - acc: 0.9007 - val_loss: 0.6931 - val_acc: 0.9837\n",
      "Epoch 2/20\n",
      "1/1 [==============================] - 0s 116ms/step - loss: 0.5047 - acc: 0.9837 - val_loss: 0.2621 - val_acc: 0.9837\n",
      "Epoch 3/20\n",
      "1/1 [==============================] - 0s 116ms/step - loss: 0.3729 - acc: 0.9837 - val_loss: 0.2621 - val_acc: 0.9837\n",
      "Epoch 4/20\n",
      "1/1 [==============================] - 0s 138ms/step - loss: 0.2781 - acc: 0.9837 - val_loss: 0.2621 - val_acc: 0.9837\n",
      "Epoch 5/20\n",
      "1/1 [==============================] - 0s 116ms/step - loss: 0.2780 - acc: 0.9837 - val_loss: 0.2621 - val_acc: 0.9837\n",
      "Epoch 6/20\n",
      "1/1 [==============================] - 0s 116ms/step - loss: 0.2729 - acc: 0.9837 - val_loss: 0.2621 - val_acc: 0.9837\n",
      "Epoch 7/20\n",
      "1/1 [==============================] - 0s 116ms/step - loss: 0.2583 - acc: 0.9837 - val_loss: 0.2621 - val_acc: 0.9837\n",
      "Epoch 8/20\n",
      "1/1 [==============================] - 0s 132ms/step - loss: 0.2630 - acc: 0.9837 - val_loss: 0.2621 - val_acc: 0.9837\n",
      "Epoch 9/20\n",
      "1/1 [==============================] - 0s 116ms/step - loss: 0.2626 - acc: 0.9837 - val_loss: 0.2621 - val_acc: 0.9837\n",
      "Epoch 10/20\n",
      "1/1 [==============================] - 0s 123ms/step - loss: 0.2626 - acc: 0.9837 - val_loss: 0.2621 - val_acc: 0.9837\n",
      "Epoch 11/20\n",
      "1/1 [==============================] - 0s 116ms/step - loss: 0.2626 - acc: 0.9837 - val_loss: 0.2621 - val_acc: 0.9837\n",
      "Epoch 12/20\n",
      "1/1 [==============================] - 0s 116ms/step - loss: 0.2626 - acc: 0.9837 - val_loss: 0.2621 - val_acc: 0.9837\n",
      "Epoch 13/20\n",
      "1/1 [==============================] - 0s 132ms/step - loss: 0.2626 - acc: 0.9837 - val_loss: 0.2621 - val_acc: 0.9837\n",
      "Epoch 14/20\n",
      "1/1 [==============================] - 0s 116ms/step - loss: 0.2626 - acc: 0.9837 - val_loss: 0.2621 - val_acc: 0.9837\n",
      "Epoch 15/20\n",
      "1/1 [==============================] - 0s 116ms/step - loss: 0.2626 - acc: 0.9837 - val_loss: 0.2621 - val_acc: 0.9837\n",
      "Epoch 16/20\n",
      "1/1 [==============================] - 0s 122ms/step - loss: 0.2626 - acc: 0.9837 - val_loss: 0.2621 - val_acc: 0.9837\n",
      "Epoch 17/20\n",
      "1/1 [==============================] - 0s 116ms/step - loss: 0.2626 - acc: 0.9837 - val_loss: 0.2621 - val_acc: 0.9837\n",
      "Epoch 18/20\n",
      "1/1 [==============================] - 0s 132ms/step - loss: 0.2626 - acc: 0.9837 - val_loss: 0.2621 - val_acc: 0.9837\n",
      "Epoch 19/20\n",
      "1/1 [==============================] - 0s 132ms/step - loss: 0.2626 - acc: 0.9837 - val_loss: 0.2621 - val_acc: 0.9837\n",
      "Epoch 20/20\n",
      "1/1 [==============================] - 0s 116ms/step - loss: 0.2626 - acc: 0.9837 - val_loss: 0.2621 - val_acc: 0.9837\n"
     ]
    }
   ],
   "source": [
    "# \n",
    "history = model.fit(train_gen, validation_data=test_gen, epochs=20)"
   ]
  },
  {
   "cell_type": "code",
   "execution_count": 21,
   "metadata": {},
   "outputs": [
    {
     "name": "stdout",
     "output_type": "stream",
     "text": [
      "\n",
      "Test Set Metrics:\n",
      "\tloss: 0.2621\n",
      "\tacc: 0.9837\n"
     ]
    }
   ],
   "source": [
    "test_metrics = model.evaluate(test_gen)\n",
    "print(\"\\nTest Set Metrics:\")\n",
    "for name, val in zip(model.metrics_names, test_metrics):\n",
    "    print(\"\\t{}: {:0.4f}\".format(name, val))"
   ]
  }
 ],
 "metadata": {
  "kernelspec": {
   "display_name": "Python 3",
   "language": "python",
   "name": "python3"
  },
  "language_info": {
   "codemirror_mode": {
    "name": "ipython",
    "version": 3
   },
   "file_extension": ".py",
   "mimetype": "text/x-python",
   "name": "python",
   "nbconvert_exporter": "python",
   "pygments_lexer": "ipython3",
   "version": "3.7.4"
  },
  "varInspector": {
   "cols": {
    "lenName": 16,
    "lenType": 16,
    "lenVar": 40
   },
   "kernels_config": {
    "python": {
     "delete_cmd_postfix": "",
     "delete_cmd_prefix": "del ",
     "library": "var_list.py",
     "varRefreshCmd": "print(var_dic_list())"
    },
    "r": {
     "delete_cmd_postfix": ") ",
     "delete_cmd_prefix": "rm(",
     "library": "var_list.r",
     "varRefreshCmd": "cat(var_dic_list()) "
    }
   },
   "position": {
    "height": "669.85px",
    "left": "1857px",
    "right": "20px",
    "top": "128px",
    "width": "619px"
   },
   "types_to_exclude": [
    "module",
    "function",
    "builtin_function_or_method",
    "instance",
    "_Feature"
   ],
   "window_display": true
  }
 },
 "nbformat": 4,
 "nbformat_minor": 2
}
