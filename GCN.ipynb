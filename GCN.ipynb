{
 "cells": [
  {
   "cell_type": "markdown",
   "metadata": {},
   "source": [
    "### Exploring GCN's for node prediction in a music playlist.  Predicting if an artist is part of playlist.  \n",
    "\n",
    "Given 10 random artists from the 'rock classics' playlist and individual graphs of size 400, can node classification methods outperform PageRank with respect to predicting/labeling artists in the graph that are also in the original playlist.  Given the same parameters, ranking artists by PageRank will correctly label anywhere from ~35% to ~40% of artists in this playlist (see 'Exploring Weighted Edges'.)\n"
   ]
  },
  {
   "cell_type": "code",
   "execution_count": 1,
   "metadata": {},
   "outputs": [],
   "source": [
    "import music_graph as mg    # contains all necessary functions, data and dependencies\n",
    "\n",
    "from music_graph import artist_dictionary\n",
    "from music_graph import tags_dictionary\n",
    "from music_graph import filtered_tags_dictionary\n",
    "from music_graph import ratings\n",
    "from music_graph import build_net\n",
    "from music_graph import layer_graphs\n",
    "from music_graph import new_centrality\n",
    "from music_graph import spotify_rankings\n",
    "from music_graph import add_tag_edges\n",
    "\n",
    "from datetime import datetime\n",
    "\n",
    "import configparser\n",
    "import spotipy\n",
    "from spotipy.oauth2 import SpotifyClientCredentials\n",
    "import pandas as pd\n",
    "import numpy as np\n",
    "from matplotlib import pyplot as plt\n",
    "import seaborn as sns\n",
    "\n",
    "import tensorflow as tf\n",
    "from stellargraph import StellarGraph as sg\n",
    "\n",
    "# Spotify client id & secret for API access\n",
    "\n",
    "config = configparser.ConfigParser()\n",
    "config.read('spotify.ini')\n",
    "\n",
    "client_id = config['spotify']['client_id']\n",
    "client_secret = config['spotify']['client_secret']"
   ]
  },
  {
   "cell_type": "code",
   "execution_count": 2,
   "metadata": {},
   "outputs": [
    {
     "name": "stdout",
     "output_type": "stream",
     "text": [
      "81  unique artists\n",
      "150  total artists\n"
     ]
    }
   ],
   "source": [
    "playlists = {\n",
    "'4C9mWYjVobPsfFXesGxYNf':'all classic hits', ### $$$\n",
    "#'5TF1ki4BzMFfotw57juFTY':'coffee shop mix',\n",
    "'3pM6OEFeTo4L1yd4eRltjL':'2004 hits', ### $$$\n",
    "'73gFKr9Moh1T3jXM8TVSdC':'80s summer mix',\n",
    "'17xTDziQjqAZANvg6C6FlX':'songs from your old ipod',\n",
    "'6j3URIMhpf62LXpDcbi98b':'rap playlists',\n",
    "#'1DcX9eK1MaPlwwBIsEfnBX':'country playlist to end all playlists',\n",
    "#'5VhEpH7stoZiX4v8gIb77P':'playlists',\n",
    "'37i9dQZF1DWXRqgorJj26U':'rock classics', ### $$$\n",
    "'37i9dQZF1DWWJOmJ7nRx0C':'rock hard',  ### $$$\n",
    "'37i9dQZF1DWWRktbhJiuqL':'pure rock n roll', ### $$$\n",
    "'37i9dQZF1DX5W4wuxak2hE':'power pop', ###\n",
    "'7Jfcy1H82lsTIzhpL4MZXu':'punk playlist', ### $$$\n",
    "'07jaITMGGL6QYmT8yZVxQt':'metal playlist'\n",
    "}  \n",
    "\n",
    "\"\"\"\n",
    "Request tracks from a playlist in Spotify\n",
    "Then pull artist out of the track container.\n",
    "\"\"\"\n",
    "url = 'https://open.spotify.com/playlist'\n",
    "sp = spotipy.Spotify(client_credentials_manager=SpotifyClientCredentials(client_id, client_secret))\n",
    "\n",
    "playlistid = '37i9dQZF1DWXRqgorJj26U'\n",
    "playlist_name = playlists[playlistid]\n",
    "\n",
    "# playlists with more than 100 artists will require two requests\n",
    "playlist1 = sp.playlist_tracks(playlistid, offset = 0, limit = 100) # get the first 100 tracks\n",
    "playlist2 = sp.playlist_tracks(playlistid, offset = 100, limit = 100) # get the next 100 tracks\n",
    "\n",
    "artists = []\n",
    "\n",
    "for index, item in enumerate(playlist1['items']):\n",
    "    artists.append(item['track']['album']['artists'][0]['name'])\n",
    "    \n",
    "for index, item in enumerate(playlist2['items']):\n",
    "    artists.append(item['track']['album']['artists'][0]['name'])\n",
    "    \n",
    "artists = [i.lower() for i in artists]\n",
    "\n",
    "num_artists = len(set(artists))      # number of unique artists in the playlist\n",
    "\n",
    "print(len(set(artists)), ' unique artists')\n",
    "print(len((artists)), ' total artists') "
   ]
  },
  {
   "cell_type": "code",
   "execution_count": 3,
   "metadata": {},
   "outputs": [
    {
     "name": "stdout",
     "output_type": "stream",
     "text": [
      "multigraph iteration: \n",
      "['dire straits', 'bruce springsteen', 'kansas', \"guns n' roses\", 'lou reed', 'the who', 'cream', 'kiss', 'buffalo springfield', 'zz top']\n",
      "2020-06-15 07:34:27.810324\n",
      "guns n' roses  not in artist_dictionary\n",
      "('dire straits', 'elementz of noize', {'kind': 'Artist', 'link': 'alan clark', 'weight': 0.10764079803947334})\n"
     ]
    }
   ],
   "source": [
    "rand_artist_count = 0\n",
    "rand_artists = []\n",
    "while rand_artist_count < 10:                  # number of random artists\n",
    "    rand = np.random.randint(0,num_artists,1)\n",
    "    rand = rand[0]\n",
    "    if artists[rand] not in rand_artists: #and artists[rand] not in ['mumford & sons','bløf','lil jon & the east side boyz']:\n",
    "        rand_artists.append(artists[rand].lower())\n",
    "        rand_artist_count +=1\n",
    "\n",
    "print(\"multigraph iteration: \")\n",
    "print(rand_artists)\n",
    "print(datetime.now())\n",
    "multigraph = layer_graphs(rand_artists, add_tags = True, size = 400) # node count of each graph\n",
    "\n",
    "print(list(multigraph.edges.data())[1])  # print an edge w/ data to make sure edge weight is correct.\n"
   ]
  },
  {
   "cell_type": "code",
   "execution_count": 4,
   "metadata": {},
   "outputs": [
    {
     "name": "stdout",
     "output_type": "stream",
     "text": [
      "2351\n",
      "631486\n"
     ]
    }
   ],
   "source": [
    "print(len(multigraph.nodes()))\n",
    "print(len(multigraph.edges.data()))"
   ]
  },
  {
   "cell_type": "code",
   "execution_count": 5,
   "metadata": {},
   "outputs": [
    {
     "name": "stdout",
     "output_type": "stream",
     "text": [
      "StellarGraph: Undirected multigraph\n",
      " Nodes: 2351, Edges: 631486\n",
      "\n",
      " Node types:\n",
      "  default: [2351]\n",
      "    Features: none\n",
      "    Edge types: default-Artist->default, default-User-Tag->default\n",
      "\n",
      " Edge types:\n",
      "    default-User-Tag->default: [593953]\n",
      "        Weights: all 0.05\n",
      "        Features: none\n",
      "    default-Artist->default: [37533]\n",
      "        Weights: range=[1.27572e-06, 0.518629], mean=0.00996706, std=0.0366298\n",
      "        Features: none\n"
     ]
    }
   ],
   "source": [
    "\"\"\"stellargraph from networkx graph\n",
    "The networkx graph is a heterogeneous (has both artist and user-tag type edges) and undirected multigraph.\n",
    "There are no node attributes at this time, although the user-tag edges added to the graph via the layer_graph \n",
    "function probably could/should be node attributes instead of edges.\"\"\"\n",
    "\n",
    "graph = sg.from_networkx(multigraph,\n",
    "                        edge_type_attr = 'kind')\n",
    "\n",
    "print(graph.info())\n"
   ]
  },
  {
   "cell_type": "code",
   "execution_count": 6,
   "metadata": {},
   "outputs": [
    {
     "data": {
      "text/plain": [
       "array([[1., 0., 0., ..., 0., 0., 0.],\n",
       "       [0., 1., 0., ..., 0., 0., 0.],\n",
       "       [0., 0., 1., ..., 0., 0., 0.],\n",
       "       ...,\n",
       "       [0., 0., 0., ..., 1., 0., 0.],\n",
       "       [0., 0., 0., ..., 0., 1., 0.],\n",
       "       [0., 0., 0., ..., 0., 0., 1.]])"
      ]
     },
     "execution_count": 6,
     "metadata": {},
     "output_type": "execute_result"
    }
   ],
   "source": [
    "# identity matrix for multigraph\n",
    "\n",
    "id_mtx = np.identity(n = len(multigraph.nodes()))\n",
    "\n",
    "id_mtx"
   ]
  },
  {
   "cell_type": "code",
   "execution_count": 20,
   "metadata": {},
   "outputs": [],
   "source": [
    "# labels for node classification.  will have just 10 labeled nodes and |V | - 10 unlabeled nodes.\n",
    "labels = pd.DataFrame()\n",
    "labels['artist'] = list(multigraph.nodes())\n",
    "labels['in_playlist'] = np.nan\n",
    "\n",
    "for i in np.arange(0,len(labels)):\n",
    "    if labels['artist'][i] in rand_artists:\n",
    "        labels['in_playlist'][i] = 1\n",
    "    else:\n",
    "        labels['in_playlist'][i] = np.nan"
   ]
  },
  {
   "cell_type": "code",
   "execution_count": 22,
   "metadata": {},
   "outputs": [
    {
     "name": "stdout",
     "output_type": "stream",
     "text": [
      "                   artist  in_playlist\n",
      "0            dire straits          1.0\n",
      "341               the who          1.0\n",
      "348                 cream          1.0\n",
      "1262               kansas          1.0\n",
      "1283    bruce springsteen          1.0\n",
      "1508  buffalo springfield          1.0\n",
      "2047                 kiss          1.0\n",
      "2131               zz top          1.0\n"
     ]
    },
    {
     "data": {
      "text/html": [
       "<div>\n",
       "<style scoped>\n",
       "    .dataframe tbody tr th:only-of-type {\n",
       "        vertical-align: middle;\n",
       "    }\n",
       "\n",
       "    .dataframe tbody tr th {\n",
       "        vertical-align: top;\n",
       "    }\n",
       "\n",
       "    .dataframe thead th {\n",
       "        text-align: right;\n",
       "    }\n",
       "</style>\n",
       "<table border=\"1\" class=\"dataframe\">\n",
       "  <thead>\n",
       "    <tr style=\"text-align: right;\">\n",
       "      <th></th>\n",
       "      <th>artist</th>\n",
       "      <th>in_playlist</th>\n",
       "    </tr>\n",
       "  </thead>\n",
       "  <tbody>\n",
       "    <tr>\n",
       "      <td>0</td>\n",
       "      <td>dire straits</td>\n",
       "      <td>1.0</td>\n",
       "    </tr>\n",
       "    <tr>\n",
       "      <td>1</td>\n",
       "      <td>elementz of noize</td>\n",
       "      <td>NaN</td>\n",
       "    </tr>\n",
       "    <tr>\n",
       "      <td>2</td>\n",
       "      <td>unguided lights</td>\n",
       "      <td>NaN</td>\n",
       "    </tr>\n",
       "    <tr>\n",
       "      <td>3</td>\n",
       "      <td>the straits</td>\n",
       "      <td>NaN</td>\n",
       "    </tr>\n",
       "    <tr>\n",
       "      <td>4</td>\n",
       "      <td>the acetones</td>\n",
       "      <td>NaN</td>\n",
       "    </tr>\n",
       "    <tr>\n",
       "      <td>5</td>\n",
       "      <td>rockpile</td>\n",
       "      <td>NaN</td>\n",
       "    </tr>\n",
       "    <tr>\n",
       "      <td>6</td>\n",
       "      <td>man</td>\n",
       "      <td>NaN</td>\n",
       "    </tr>\n",
       "    <tr>\n",
       "      <td>7</td>\n",
       "      <td>the notting hillbillies</td>\n",
       "      <td>NaN</td>\n",
       "    </tr>\n",
       "    <tr>\n",
       "      <td>8</td>\n",
       "      <td>the primitives</td>\n",
       "      <td>NaN</td>\n",
       "    </tr>\n",
       "    <tr>\n",
       "      <td>9</td>\n",
       "      <td>spring</td>\n",
       "      <td>NaN</td>\n",
       "    </tr>\n",
       "    <tr>\n",
       "      <td>10</td>\n",
       "      <td>the zombies</td>\n",
       "      <td>NaN</td>\n",
       "    </tr>\n",
       "    <tr>\n",
       "      <td>11</td>\n",
       "      <td>candidate</td>\n",
       "      <td>NaN</td>\n",
       "    </tr>\n",
       "    <tr>\n",
       "      <td>12</td>\n",
       "      <td>sheavy</td>\n",
       "      <td>NaN</td>\n",
       "    </tr>\n",
       "    <tr>\n",
       "      <td>13</td>\n",
       "      <td>ballydowse</td>\n",
       "      <td>NaN</td>\n",
       "    </tr>\n",
       "    <tr>\n",
       "      <td>14</td>\n",
       "      <td>ferry aid</td>\n",
       "      <td>NaN</td>\n",
       "    </tr>\n",
       "    <tr>\n",
       "      <td>15</td>\n",
       "      <td>voices that care</td>\n",
       "      <td>NaN</td>\n",
       "    </tr>\n",
       "    <tr>\n",
       "      <td>16</td>\n",
       "      <td>brewers droop</td>\n",
       "      <td>NaN</td>\n",
       "    </tr>\n",
       "    <tr>\n",
       "      <td>17</td>\n",
       "      <td>david knopfler</td>\n",
       "      <td>NaN</td>\n",
       "    </tr>\n",
       "    <tr>\n",
       "      <td>18</td>\n",
       "      <td>the duolian string pickers</td>\n",
       "      <td>NaN</td>\n",
       "    </tr>\n",
       "    <tr>\n",
       "      <td>19</td>\n",
       "      <td>average white band</td>\n",
       "      <td>NaN</td>\n",
       "    </tr>\n",
       "  </tbody>\n",
       "</table>\n",
       "</div>"
      ],
      "text/plain": [
       "                        artist  in_playlist\n",
       "0                 dire straits          1.0\n",
       "1            elementz of noize          NaN\n",
       "2              unguided lights          NaN\n",
       "3                  the straits          NaN\n",
       "4                 the acetones          NaN\n",
       "5                     rockpile          NaN\n",
       "6                          man          NaN\n",
       "7      the notting hillbillies          NaN\n",
       "8               the primitives          NaN\n",
       "9                       spring          NaN\n",
       "10                 the zombies          NaN\n",
       "11                   candidate          NaN\n",
       "12                      sheavy          NaN\n",
       "13                  ballydowse          NaN\n",
       "14                   ferry aid          NaN\n",
       "15            voices that care          NaN\n",
       "16               brewers droop          NaN\n",
       "17              david knopfler          NaN\n",
       "18  the duolian string pickers          NaN\n",
       "19          average white band          NaN"
      ]
     },
     "execution_count": 22,
     "metadata": {},
     "output_type": "execute_result"
    }
   ],
   "source": [
    "# check that randomly selected artists are correctly labeled\n",
    "print(labels[labels['in_playlist'] == 1])\n",
    "\n",
    "labels.head(n = 20)"
   ]
  }
 ],
 "metadata": {
  "kernelspec": {
   "display_name": "Python 3",
   "language": "python",
   "name": "python3"
  },
  "language_info": {
   "codemirror_mode": {
    "name": "ipython",
    "version": 3
   },
   "file_extension": ".py",
   "mimetype": "text/x-python",
   "name": "python",
   "nbconvert_exporter": "python",
   "pygments_lexer": "ipython3",
   "version": "3.7.4"
  },
  "varInspector": {
   "cols": {
    "lenName": 16,
    "lenType": 16,
    "lenVar": 40
   },
   "kernels_config": {
    "python": {
     "delete_cmd_postfix": "",
     "delete_cmd_prefix": "del ",
     "library": "var_list.py",
     "varRefreshCmd": "print(var_dic_list())"
    },
    "r": {
     "delete_cmd_postfix": ") ",
     "delete_cmd_prefix": "rm(",
     "library": "var_list.r",
     "varRefreshCmd": "cat(var_dic_list()) "
    }
   },
   "position": {
    "height": "669.85px",
    "left": "1857px",
    "right": "20px",
    "top": "128px",
    "width": "619px"
   },
   "types_to_exclude": [
    "module",
    "function",
    "builtin_function_or_method",
    "instance",
    "_Feature"
   ],
   "window_display": true
  }
 },
 "nbformat": 4,
 "nbformat_minor": 2
}
